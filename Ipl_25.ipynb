{
  "cells": [
    {
      "cell_type": "code",
      "execution_count": 429,
      "metadata": {
        "colab": {
          "base_uri": "https://localhost:8080/"
        },
        "id": "ci3zCeP7nI5A",
        "outputId": "2f779a89-301a-49a0-901e-44871b5d2bd5"
      },
      "outputs": [
        {
          "name": "stdout",
          "output_type": "stream",
          "text": [
            "Data source paths defined. Ready to use local datasets.\n"
          ]
        }
      ],
      "source": [
        "matches_path = \"archive/matches.csv\" \n",
        "deliveries_path = \"archive/deliveries.csv\"\n",
        "\n",
        "print('Data source paths defined. Ready to use local datasets.')"
      ]
    },
    {
      "cell_type": "code",
      "execution_count": 432,
      "metadata": {
        "_cell_guid": "b1076dfc-b9ad-4769-8c92-a6c4dae69d19",
        "_uuid": "8f2839f25d086af736a60e9eeb907d3b93b6e0e5",
        "colab": {
          "base_uri": "https://localhost:8080/"
        },
        "execution": {
          "iopub.execute_input": "2025-04-07T00:27:44.15615Z",
          "iopub.status.busy": "2025-04-07T00:27:44.155885Z",
          "iopub.status.idle": "2025-04-07T00:27:44.582215Z",
          "shell.execute_reply": "2025-04-07T00:27:44.580632Z",
          "shell.execute_reply.started": "2025-04-07T00:27:44.156125Z"
        },
        "id": "d_EERnCSnI5C",
        "outputId": "89bfff52-04d0-4a2b-d471-6711c7a3abca",
        "trusted": true
      },
      "outputs": [
        {
          "name": "stdout",
          "output_type": "stream",
          "text": [
            "Matches dataset: archive/matches.csv\n",
            "Deliveries dataset: archive/deliveries.csv\n",
            "\n",
            "Files in archive directory:\n",
            "archive\\deliveries.csv\n",
            "archive\\matches.csv\n"
          ]
        }
      ],
      "source": [
        "import numpy as np\n",
        "import pandas as pd \n",
        "import matplotlib.pyplot as plt\n",
        "import warnings\n",
        "warnings.filterwarnings('ignore')\n",
        "\n",
        "import os\n",
        "\n",
        "print(f\"Matches dataset: {matches_path}\")\n",
        "print(f\"Deliveries dataset: {deliveries_path}\")\n",
        "\n",
        "print(\"\\nFiles in archive directory:\")\n",
        "for filename in os.listdir('archive'):\n",
        "    print(os.path.join('archive', filename))"
      ]
    },
    {
      "cell_type": "code",
      "execution_count": 433,
      "metadata": {
        "colab": {
          "base_uri": "https://localhost:8080/",
          "height": 417
        },
        "execution": {
          "iopub.execute_input": "2025-04-07T00:27:44.584188Z",
          "iopub.status.busy": "2025-04-07T00:27:44.583571Z",
          "iopub.status.idle": "2025-04-07T00:27:44.622355Z",
          "shell.execute_reply": "2025-04-07T00:27:44.621355Z",
          "shell.execute_reply.started": "2025-04-07T00:27:44.584142Z"
        },
        "id": "Nm81jKW7nI5D",
        "outputId": "525879ff-4da8-429c-8686-b09194f5f000",
        "trusted": true
      },
      "outputs": [
        {
          "data": {
            "text/html": [
              "<div>\n",
              "<style scoped>\n",
              "    .dataframe tbody tr th:only-of-type {\n",
              "        vertical-align: middle;\n",
              "    }\n",
              "\n",
              "    .dataframe tbody tr th {\n",
              "        vertical-align: top;\n",
              "    }\n",
              "\n",
              "    .dataframe thead th {\n",
              "        text-align: right;\n",
              "    }\n",
              "</style>\n",
              "<table border=\"1\" class=\"dataframe\">\n",
              "  <thead>\n",
              "    <tr style=\"text-align: right;\">\n",
              "      <th></th>\n",
              "      <th>id</th>\n",
              "      <th>season</th>\n",
              "      <th>city</th>\n",
              "      <th>date</th>\n",
              "      <th>match_type</th>\n",
              "      <th>player_of_match</th>\n",
              "      <th>venue</th>\n",
              "      <th>team1</th>\n",
              "      <th>team2</th>\n",
              "      <th>toss_winner</th>\n",
              "      <th>toss_decision</th>\n",
              "      <th>winner</th>\n",
              "      <th>result</th>\n",
              "      <th>result_margin</th>\n",
              "      <th>target_runs</th>\n",
              "      <th>target_overs</th>\n",
              "      <th>super_over</th>\n",
              "      <th>method</th>\n",
              "      <th>umpire1</th>\n",
              "      <th>umpire2</th>\n",
              "    </tr>\n",
              "  </thead>\n",
              "  <tbody>\n",
              "    <tr>\n",
              "      <th>0</th>\n",
              "      <td>335982</td>\n",
              "      <td>2007/08</td>\n",
              "      <td>Bangalore</td>\n",
              "      <td>2008-04-18</td>\n",
              "      <td>League</td>\n",
              "      <td>BB McCullum</td>\n",
              "      <td>M Chinnaswamy Stadium</td>\n",
              "      <td>Royal Challengers Bangalore</td>\n",
              "      <td>Kolkata Knight Riders</td>\n",
              "      <td>Royal Challengers Bangalore</td>\n",
              "      <td>field</td>\n",
              "      <td>Kolkata Knight Riders</td>\n",
              "      <td>runs</td>\n",
              "      <td>140.0</td>\n",
              "      <td>223.0</td>\n",
              "      <td>20.0</td>\n",
              "      <td>N</td>\n",
              "      <td>NaN</td>\n",
              "      <td>Asad Rauf</td>\n",
              "      <td>RE Koertzen</td>\n",
              "    </tr>\n",
              "    <tr>\n",
              "      <th>1</th>\n",
              "      <td>335983</td>\n",
              "      <td>2007/08</td>\n",
              "      <td>Chandigarh</td>\n",
              "      <td>2008-04-19</td>\n",
              "      <td>League</td>\n",
              "      <td>MEK Hussey</td>\n",
              "      <td>Punjab Cricket Association Stadium, Mohali</td>\n",
              "      <td>Kings XI Punjab</td>\n",
              "      <td>Chennai Super Kings</td>\n",
              "      <td>Chennai Super Kings</td>\n",
              "      <td>bat</td>\n",
              "      <td>Chennai Super Kings</td>\n",
              "      <td>runs</td>\n",
              "      <td>33.0</td>\n",
              "      <td>241.0</td>\n",
              "      <td>20.0</td>\n",
              "      <td>N</td>\n",
              "      <td>NaN</td>\n",
              "      <td>MR Benson</td>\n",
              "      <td>SL Shastri</td>\n",
              "    </tr>\n",
              "    <tr>\n",
              "      <th>2</th>\n",
              "      <td>335984</td>\n",
              "      <td>2007/08</td>\n",
              "      <td>Delhi</td>\n",
              "      <td>2008-04-19</td>\n",
              "      <td>League</td>\n",
              "      <td>MF Maharoof</td>\n",
              "      <td>Feroz Shah Kotla</td>\n",
              "      <td>Delhi Daredevils</td>\n",
              "      <td>Rajasthan Royals</td>\n",
              "      <td>Rajasthan Royals</td>\n",
              "      <td>bat</td>\n",
              "      <td>Delhi Daredevils</td>\n",
              "      <td>wickets</td>\n",
              "      <td>9.0</td>\n",
              "      <td>130.0</td>\n",
              "      <td>20.0</td>\n",
              "      <td>N</td>\n",
              "      <td>NaN</td>\n",
              "      <td>Aleem Dar</td>\n",
              "      <td>GA Pratapkumar</td>\n",
              "    </tr>\n",
              "    <tr>\n",
              "      <th>3</th>\n",
              "      <td>335985</td>\n",
              "      <td>2007/08</td>\n",
              "      <td>Mumbai</td>\n",
              "      <td>2008-04-20</td>\n",
              "      <td>League</td>\n",
              "      <td>MV Boucher</td>\n",
              "      <td>Wankhede Stadium</td>\n",
              "      <td>Mumbai Indians</td>\n",
              "      <td>Royal Challengers Bangalore</td>\n",
              "      <td>Mumbai Indians</td>\n",
              "      <td>bat</td>\n",
              "      <td>Royal Challengers Bangalore</td>\n",
              "      <td>wickets</td>\n",
              "      <td>5.0</td>\n",
              "      <td>166.0</td>\n",
              "      <td>20.0</td>\n",
              "      <td>N</td>\n",
              "      <td>NaN</td>\n",
              "      <td>SJ Davis</td>\n",
              "      <td>DJ Harper</td>\n",
              "    </tr>\n",
              "    <tr>\n",
              "      <th>4</th>\n",
              "      <td>335986</td>\n",
              "      <td>2007/08</td>\n",
              "      <td>Kolkata</td>\n",
              "      <td>2008-04-20</td>\n",
              "      <td>League</td>\n",
              "      <td>DJ Hussey</td>\n",
              "      <td>Eden Gardens</td>\n",
              "      <td>Kolkata Knight Riders</td>\n",
              "      <td>Deccan Chargers</td>\n",
              "      <td>Deccan Chargers</td>\n",
              "      <td>bat</td>\n",
              "      <td>Kolkata Knight Riders</td>\n",
              "      <td>wickets</td>\n",
              "      <td>5.0</td>\n",
              "      <td>111.0</td>\n",
              "      <td>20.0</td>\n",
              "      <td>N</td>\n",
              "      <td>NaN</td>\n",
              "      <td>BF Bowden</td>\n",
              "      <td>K Hariharan</td>\n",
              "    </tr>\n",
              "  </tbody>\n",
              "</table>\n",
              "</div>"
            ],
            "text/plain": [
              "       id   season        city        date match_type player_of_match  \\\n",
              "0  335982  2007/08   Bangalore  2008-04-18     League     BB McCullum   \n",
              "1  335983  2007/08  Chandigarh  2008-04-19     League      MEK Hussey   \n",
              "2  335984  2007/08       Delhi  2008-04-19     League     MF Maharoof   \n",
              "3  335985  2007/08      Mumbai  2008-04-20     League      MV Boucher   \n",
              "4  335986  2007/08     Kolkata  2008-04-20     League       DJ Hussey   \n",
              "\n",
              "                                        venue                        team1  \\\n",
              "0                       M Chinnaswamy Stadium  Royal Challengers Bangalore   \n",
              "1  Punjab Cricket Association Stadium, Mohali              Kings XI Punjab   \n",
              "2                            Feroz Shah Kotla             Delhi Daredevils   \n",
              "3                            Wankhede Stadium               Mumbai Indians   \n",
              "4                                Eden Gardens        Kolkata Knight Riders   \n",
              "\n",
              "                         team2                  toss_winner toss_decision  \\\n",
              "0        Kolkata Knight Riders  Royal Challengers Bangalore         field   \n",
              "1          Chennai Super Kings          Chennai Super Kings           bat   \n",
              "2             Rajasthan Royals             Rajasthan Royals           bat   \n",
              "3  Royal Challengers Bangalore               Mumbai Indians           bat   \n",
              "4              Deccan Chargers              Deccan Chargers           bat   \n",
              "\n",
              "                        winner   result  result_margin  target_runs  \\\n",
              "0        Kolkata Knight Riders     runs          140.0        223.0   \n",
              "1          Chennai Super Kings     runs           33.0        241.0   \n",
              "2             Delhi Daredevils  wickets            9.0        130.0   \n",
              "3  Royal Challengers Bangalore  wickets            5.0        166.0   \n",
              "4        Kolkata Knight Riders  wickets            5.0        111.0   \n",
              "\n",
              "   target_overs super_over method    umpire1         umpire2  \n",
              "0          20.0          N    NaN  Asad Rauf     RE Koertzen  \n",
              "1          20.0          N    NaN  MR Benson      SL Shastri  \n",
              "2          20.0          N    NaN  Aleem Dar  GA Pratapkumar  \n",
              "3          20.0          N    NaN   SJ Davis       DJ Harper  \n",
              "4          20.0          N    NaN  BF Bowden     K Hariharan  "
            ]
          },
          "execution_count": 433,
          "metadata": {},
          "output_type": "execute_result"
        }
      ],
      "source": [
        "matches_df = pd.read_csv(matches_path)\n",
        "matches=matches_df.copy()\n",
        "matches.head()"
      ]
    },
    {
      "cell_type": "code",
      "execution_count": 434,
      "metadata": {
        "cellView": "form",
        "colab": {
          "base_uri": "https://localhost:8080/",
          "height": 430
        },
        "collapsed": true,
        "id": "qxzYUtBLvyHJ",
        "outputId": "0494e68f-1d96-4281-db9a-449c28ef1f13"
      },
      "outputs": [
        {
          "data": {
            "image/png": "[encoded data removed]",
            "text/plain": [
              "<Figure size 640x480 with 1 Axes>"
            ]
          },
          "metadata": {},
          "output_type": "display_data"
        }
      ],
      "source": [
        "# @title super_over\n",
        "\n",
        "from matplotlib import pyplot as plt\n",
        "import seaborn as sns\n",
        "matches.groupby('super_over').size().plot(kind='barh', color=sns.palettes.mpl_palette('Dark2'))\n",
        "plt.gca().spines[['top', 'right',]].set_visible(False)"
      ]
    },
    {
      "cell_type": "code",
      "execution_count": 435,
      "metadata": {
        "colab": {
          "base_uri": "https://localhost:8080/",
          "height": 417
        },
        "execution": {
          "iopub.execute_input": "2025-04-07T00:27:44.623501Z",
          "iopub.status.busy": "2025-04-07T00:27:44.623246Z",
          "iopub.status.idle": "2025-04-07T00:27:44.644658Z",
          "shell.execute_reply": "2025-04-07T00:27:44.643634Z",
          "shell.execute_reply.started": "2025-04-07T00:27:44.623477Z"
        },
        "id": "BSE0gQxMnI5E",
        "outputId": "2a8d116b-31de-4787-9443-0bc169f79c45",
        "trusted": true
      },
      "outputs": [
        {
          "data": {
            "text/html": [
              "<div>\n",
              "<style scoped>\n",
              "    .dataframe tbody tr th:only-of-type {\n",
              "        vertical-align: middle;\n",
              "    }\n",
              "\n",
              "    .dataframe tbody tr th {\n",
              "        vertical-align: top;\n",
              "    }\n",
              "\n",
              "    .dataframe thead th {\n",
              "        text-align: right;\n",
              "    }\n",
              "</style>\n",
              "<table border=\"1\" class=\"dataframe\">\n",
              "  <thead>\n",
              "    <tr style=\"text-align: right;\">\n",
              "      <th></th>\n",
              "      <th>Season</th>\n",
              "      <th>City</th>\n",
              "      <th>Date</th>\n",
              "      <th>Match_Type</th>\n",
              "      <th>Player_of_match</th>\n",
              "      <th>Venue</th>\n",
              "      <th>team1</th>\n",
              "      <th>team2</th>\n",
              "      <th>toss_winner</th>\n",
              "      <th>toss_decision</th>\n",
              "      <th>winner</th>\n",
              "      <th>result</th>\n",
              "      <th>result_margin</th>\n",
              "      <th>target_runs</th>\n",
              "      <th>target_overs</th>\n",
              "      <th>super_over</th>\n",
              "    </tr>\n",
              "  </thead>\n",
              "  <tbody>\n",
              "    <tr>\n",
              "      <th>0</th>\n",
              "      <td>2025</td>\n",
              "      <td>Kolkata</td>\n",
              "      <td>3/22/2025</td>\n",
              "      <td>League</td>\n",
              "      <td>Krunal Pandya</td>\n",
              "      <td>Eden Gardens</td>\n",
              "      <td>Kolkata Knight Riders</td>\n",
              "      <td>Royal Challengers Bengaluru</td>\n",
              "      <td>Royal Challengers Bengaluru</td>\n",
              "      <td>field</td>\n",
              "      <td>Royal Challengers Bengaluru</td>\n",
              "      <td>wickets</td>\n",
              "      <td>7.0</td>\n",
              "      <td>175.0</td>\n",
              "      <td>20.0</td>\n",
              "      <td>N</td>\n",
              "    </tr>\n",
              "    <tr>\n",
              "      <th>1</th>\n",
              "      <td>2025</td>\n",
              "      <td>Hyderabad</td>\n",
              "      <td>3/23/2025</td>\n",
              "      <td>League</td>\n",
              "      <td>Ishan Kishan</td>\n",
              "      <td>Rajiv Gandhi International Stadium</td>\n",
              "      <td>Sunrisers Hyderabad</td>\n",
              "      <td>Rajasthan Royals</td>\n",
              "      <td>Rajasthan Royals</td>\n",
              "      <td>field</td>\n",
              "      <td>Sunrisers Hyderabad</td>\n",
              "      <td>runs</td>\n",
              "      <td>44.0</td>\n",
              "      <td>287.0</td>\n",
              "      <td>20.0</td>\n",
              "      <td>N</td>\n",
              "    </tr>\n",
              "    <tr>\n",
              "      <th>2</th>\n",
              "      <td>2025</td>\n",
              "      <td>Chennai</td>\n",
              "      <td>3/23/2025</td>\n",
              "      <td>League</td>\n",
              "      <td>Noor Ahmad</td>\n",
              "      <td>MA Chidambaram Stadium</td>\n",
              "      <td>Chennai Super Kings</td>\n",
              "      <td>Mumbai Indians</td>\n",
              "      <td>Chennai Super Kings</td>\n",
              "      <td>field</td>\n",
              "      <td>Chennai Super Kings</td>\n",
              "      <td>wickets</td>\n",
              "      <td>4.0</td>\n",
              "      <td>156.0</td>\n",
              "      <td>20.0</td>\n",
              "      <td>N</td>\n",
              "    </tr>\n",
              "    <tr>\n",
              "      <th>3</th>\n",
              "      <td>2025</td>\n",
              "      <td>Visakhapatnam</td>\n",
              "      <td>3/24/2025</td>\n",
              "      <td>League</td>\n",
              "      <td>Ashutosh Sharma</td>\n",
              "      <td>Dr YS Rajasekhara Reddy ACA-VDCA Cricket Stadium</td>\n",
              "      <td>Delhi Capitals</td>\n",
              "      <td>Lucknow Super Giants</td>\n",
              "      <td>Delhi Capitals</td>\n",
              "      <td>field</td>\n",
              "      <td>Delhi Capitals</td>\n",
              "      <td>wickets</td>\n",
              "      <td>1.0</td>\n",
              "      <td>210.0</td>\n",
              "      <td>20.0</td>\n",
              "      <td>N</td>\n",
              "    </tr>\n",
              "    <tr>\n",
              "      <th>4</th>\n",
              "      <td>2025</td>\n",
              "      <td>Ahmedabad</td>\n",
              "      <td>3/25/2025</td>\n",
              "      <td>League</td>\n",
              "      <td>Shreyas Iyer</td>\n",
              "      <td>Narendra Modi Stadium</td>\n",
              "      <td>Gujarat Titans</td>\n",
              "      <td>Punjab Kings</td>\n",
              "      <td>Gujarat Titans</td>\n",
              "      <td>field</td>\n",
              "      <td>Punjab Kings</td>\n",
              "      <td>runs</td>\n",
              "      <td>11.0</td>\n",
              "      <td>244.0</td>\n",
              "      <td>20.0</td>\n",
              "      <td>N</td>\n",
              "    </tr>\n",
              "  </tbody>\n",
              "</table>\n",
              "</div>"
            ],
            "text/plain": [
              "   Season           City       Date Match_Type  Player_of_match  \\\n",
              "0    2025        Kolkata  3/22/2025     League    Krunal Pandya   \n",
              "1    2025      Hyderabad  3/23/2025     League     Ishan Kishan   \n",
              "2    2025        Chennai  3/23/2025     League       Noor Ahmad   \n",
              "3    2025  Visakhapatnam  3/24/2025     League  Ashutosh Sharma   \n",
              "4    2025      Ahmedabad  3/25/2025     League     Shreyas Iyer   \n",
              "\n",
              "                                              Venue                   team1  \\\n",
              "0                                      Eden Gardens   Kolkata Knight Riders   \n",
              "1                Rajiv Gandhi International Stadium     Sunrisers Hyderabad   \n",
              "2                            MA Chidambaram Stadium     Chennai Super Kings   \n",
              "3  Dr YS Rajasekhara Reddy ACA-VDCA Cricket Stadium          Delhi Capitals   \n",
              "4                             Narendra Modi Stadium          Gujarat Titans   \n",
              "\n",
              "                          team2                   toss_winner toss_decision  \\\n",
              "0   Royal Challengers Bengaluru   Royal Challengers Bengaluru         field   \n",
              "1              Rajasthan Royals              Rajasthan Royals         field   \n",
              "2                Mumbai Indians           Chennai Super Kings         field   \n",
              "3          Lucknow Super Giants                Delhi Capitals         field   \n",
              "4                  Punjab Kings                Gujarat Titans         field   \n",
              "\n",
              "                        winner    result  result_margin  target_runs  \\\n",
              "0   Royal Challengers Bengaluru  wickets            7.0        175.0   \n",
              "1           Sunrisers Hyderabad     runs           44.0        287.0   \n",
              "2           Chennai Super Kings  wickets            4.0        156.0   \n",
              "3                Delhi Capitals  wickets            1.0        210.0   \n",
              "4                  Punjab Kings     runs           11.0        244.0   \n",
              "\n",
              "   target_overs super_over  \n",
              "0          20.0          N  \n",
              "1          20.0          N  \n",
              "2          20.0          N  \n",
              "3          20.0          N  \n",
              "4          20.0          N  "
            ]
          },
          "execution_count": 435,
          "metadata": {},
          "output_type": "execute_result"
        }
      ],
      "source": [
        "df25 = pd.read_csv('IPL_2025_SEASON_SCHEDULE.csv') \n",
        "matches_s25=df25.copy()\n",
        "matches_s25.head()"
      ]
    },
    {
      "cell_type": "markdown",
      "metadata": {
        "id": "vDwCkFi-nI5E"
      },
      "source": [
        "#EDA"
      ]
    },
    {
      "cell_type": "code",
      "execution_count": 436,
      "metadata": {
        "colab": {
          "base_uri": "https://localhost:8080/"
        },
        "execution": {
          "iopub.execute_input": "2025-04-07T00:27:44.646104Z",
          "iopub.status.busy": "2025-04-07T00:27:44.645707Z",
          "iopub.status.idle": "2025-04-07T00:27:44.660838Z",
          "shell.execute_reply": "2025-04-07T00:27:44.659687Z",
          "shell.execute_reply.started": "2025-04-07T00:27:44.646068Z"
        },
        "id": "z1-kp853nI5G",
        "outputId": "6390fb5d-d9e3-4aa7-ece0-299ce45be9c3",
        "trusted": true
      },
      "outputs": [
        {
          "name": "stdout",
          "output_type": "stream",
          "text": [
            "<class 'pandas.core.frame.DataFrame'>\n",
            "RangeIndex: 1095 entries, 0 to 1094\n",
            "Data columns (total 20 columns):\n",
            " #   Column           Non-Null Count  Dtype  \n",
            "---  ------           --------------  -----  \n",
            " 0   id               1095 non-null   int64  \n",
            " 1   season           1095 non-null   object \n",
            " 2   city             1044 non-null   object \n",
            " 3   date             1095 non-null   object \n",
            " 4   match_type       1095 non-null   object \n",
            " 5   player_of_match  1090 non-null   object \n",
            " 6   venue            1095 non-null   object \n",
            " 7   team1            1095 non-null   object \n",
            " 8   team2            1095 non-null   object \n",
            " 9   toss_winner      1095 non-null   object \n",
            " 10  toss_decision    1095 non-null   object \n",
            " 11  winner           1090 non-null   object \n",
            " 12  result           1095 non-null   object \n",
            " 13  result_margin    1076 non-null   float64\n",
            " 14  target_runs      1092 non-null   float64\n",
            " 15  target_overs     1092 non-null   float64\n",
            " 16  super_over       1095 non-null   object \n",
            " 17  method           21 non-null     object \n",
            " 18  umpire1          1095 non-null   object \n",
            " 19  umpire2          1095 non-null   object \n",
            "dtypes: float64(3), int64(1), object(16)\n",
            "memory usage: 171.2+ KB\n"
          ]
        }
      ],
      "source": [
        "matches.info()"
      ]
    },
    {
      "cell_type": "code",
      "execution_count": 437,
      "metadata": {
        "colab": {
          "base_uri": "https://localhost:8080/",
          "height": 504
        },
        "execution": {
          "iopub.execute_input": "2025-04-07T00:27:44.664597Z",
          "iopub.status.busy": "2025-04-07T00:27:44.664281Z",
          "iopub.status.idle": "2025-04-07T00:27:44.698817Z",
          "shell.execute_reply": "2025-04-07T00:27:44.697692Z",
          "shell.execute_reply.started": "2025-04-07T00:27:44.664571Z"
        },
        "id": "AqK_rItYnI5G",
        "outputId": "d715072d-f1bf-4037-ca9e-987d599a1a20",
        "trusted": true
      },
      "outputs": [
        {
          "data": {
            "text/html": [
              "<div>\n",
              "<style scoped>\n",
              "    .dataframe tbody tr th:only-of-type {\n",
              "        vertical-align: middle;\n",
              "    }\n",
              "\n",
              "    .dataframe tbody tr th {\n",
              "        vertical-align: top;\n",
              "    }\n",
              "\n",
              "    .dataframe thead th {\n",
              "        text-align: right;\n",
              "    }\n",
              "</style>\n",
              "<table border=\"1\" class=\"dataframe\">\n",
              "  <thead>\n",
              "    <tr style=\"text-align: right;\">\n",
              "      <th></th>\n",
              "      <th>id</th>\n",
              "      <th>season</th>\n",
              "      <th>city</th>\n",
              "      <th>date</th>\n",
              "      <th>match_type</th>\n",
              "      <th>player_of_match</th>\n",
              "      <th>venue</th>\n",
              "      <th>team1</th>\n",
              "      <th>team2</th>\n",
              "      <th>toss_winner</th>\n",
              "      <th>toss_decision</th>\n",
              "      <th>winner</th>\n",
              "      <th>result</th>\n",
              "      <th>result_margin</th>\n",
              "      <th>target_runs</th>\n",
              "      <th>target_overs</th>\n",
              "      <th>super_over</th>\n",
              "      <th>method</th>\n",
              "      <th>umpire1</th>\n",
              "      <th>umpire2</th>\n",
              "    </tr>\n",
              "  </thead>\n",
              "  <tbody>\n",
              "    <tr>\n",
              "      <th>713</th>\n",
              "      <td>1178393</td>\n",
              "      <td>2019</td>\n",
              "      <td>Chennai</td>\n",
              "      <td>2019-04-06</td>\n",
              "      <td>League</td>\n",
              "      <td>Harbhajan Singh</td>\n",
              "      <td>MA Chidambaram Stadium</td>\n",
              "      <td>Chennai Super Kings</td>\n",
              "      <td>Kings XI Punjab</td>\n",
              "      <td>Chennai Super Kings</td>\n",
              "      <td>bat</td>\n",
              "      <td>Chennai Super Kings</td>\n",
              "      <td>runs</td>\n",
              "      <td>22.0</td>\n",
              "      <td>161.0</td>\n",
              "      <td>20.0</td>\n",
              "      <td>N</td>\n",
              "      <td>NaN</td>\n",
              "      <td>KN Ananthapadmanabhan</td>\n",
              "      <td>RJ Tucker</td>\n",
              "    </tr>\n",
              "    <tr>\n",
              "      <th>40</th>\n",
              "      <td>336024</td>\n",
              "      <td>2007/08</td>\n",
              "      <td>Hyderabad</td>\n",
              "      <td>2008-05-18</td>\n",
              "      <td>League</td>\n",
              "      <td>DJ Bravo</td>\n",
              "      <td>Rajiv Gandhi International Stadium, Uppal</td>\n",
              "      <td>Deccan Chargers</td>\n",
              "      <td>Mumbai Indians</td>\n",
              "      <td>Deccan Chargers</td>\n",
              "      <td>field</td>\n",
              "      <td>Mumbai Indians</td>\n",
              "      <td>runs</td>\n",
              "      <td>25.0</td>\n",
              "      <td>179.0</td>\n",
              "      <td>20.0</td>\n",
              "      <td>N</td>\n",
              "      <td>NaN</td>\n",
              "      <td>BR Doctrove</td>\n",
              "      <td>DJ Harper</td>\n",
              "    </tr>\n",
              "    <tr>\n",
              "      <th>899</th>\n",
              "      <td>1304070</td>\n",
              "      <td>2022</td>\n",
              "      <td>Mumbai</td>\n",
              "      <td>2022-04-14</td>\n",
              "      <td>League</td>\n",
              "      <td>HH Pandya</td>\n",
              "      <td>Dr DY Patil Sports Academy, Mumbai</td>\n",
              "      <td>Gujarat Titans</td>\n",
              "      <td>Rajasthan Royals</td>\n",
              "      <td>Rajasthan Royals</td>\n",
              "      <td>field</td>\n",
              "      <td>Gujarat Titans</td>\n",
              "      <td>runs</td>\n",
              "      <td>37.0</td>\n",
              "      <td>193.0</td>\n",
              "      <td>20.0</td>\n",
              "      <td>N</td>\n",
              "      <td>NaN</td>\n",
              "      <td>CB Gaffaney</td>\n",
              "      <td>R Pandit</td>\n",
              "    </tr>\n",
              "    <tr>\n",
              "      <th>154</th>\n",
              "      <td>419145</td>\n",
              "      <td>2009/10</td>\n",
              "      <td>Bangalore</td>\n",
              "      <td>2010-04-08</td>\n",
              "      <td>League</td>\n",
              "      <td>TL Suman</td>\n",
              "      <td>M Chinnaswamy Stadium</td>\n",
              "      <td>Royal Challengers Bangalore</td>\n",
              "      <td>Deccan Chargers</td>\n",
              "      <td>Deccan Chargers</td>\n",
              "      <td>field</td>\n",
              "      <td>Deccan Chargers</td>\n",
              "      <td>wickets</td>\n",
              "      <td>7.0</td>\n",
              "      <td>185.0</td>\n",
              "      <td>20.0</td>\n",
              "      <td>N</td>\n",
              "      <td>NaN</td>\n",
              "      <td>S Asnani</td>\n",
              "      <td>DJ Harper</td>\n",
              "    </tr>\n",
              "    <tr>\n",
              "      <th>181</th>\n",
              "      <td>501204</td>\n",
              "      <td>2011</td>\n",
              "      <td>Jaipur</td>\n",
              "      <td>2011-04-12</td>\n",
              "      <td>League</td>\n",
              "      <td>SK Warne</td>\n",
              "      <td>Sawai Mansingh Stadium</td>\n",
              "      <td>Rajasthan Royals</td>\n",
              "      <td>Delhi Daredevils</td>\n",
              "      <td>Delhi Daredevils</td>\n",
              "      <td>bat</td>\n",
              "      <td>Rajasthan Royals</td>\n",
              "      <td>wickets</td>\n",
              "      <td>6.0</td>\n",
              "      <td>152.0</td>\n",
              "      <td>20.0</td>\n",
              "      <td>N</td>\n",
              "      <td>NaN</td>\n",
              "      <td>Aleem Dar</td>\n",
              "      <td>RB Tiffin</td>\n",
              "    </tr>\n",
              "  </tbody>\n",
              "</table>\n",
              "</div>"
            ],
            "text/plain": [
              "          id   season       city        date match_type  player_of_match  \\\n",
              "713  1178393     2019    Chennai  2019-04-06     League  Harbhajan Singh   \n",
              "40    336024  2007/08  Hyderabad  2008-05-18     League         DJ Bravo   \n",
              "899  1304070     2022     Mumbai  2022-04-14     League        HH Pandya   \n",
              "154   419145  2009/10  Bangalore  2010-04-08     League         TL Suman   \n",
              "181   501204     2011     Jaipur  2011-04-12     League         SK Warne   \n",
              "\n",
              "                                         venue                        team1  \\\n",
              "713                     MA Chidambaram Stadium          Chennai Super Kings   \n",
              "40   Rajiv Gandhi International Stadium, Uppal              Deccan Chargers   \n",
              "899         Dr DY Patil Sports Academy, Mumbai               Gujarat Titans   \n",
              "154                      M Chinnaswamy Stadium  Royal Challengers Bangalore   \n",
              "181                     Sawai Mansingh Stadium             Rajasthan Royals   \n",
              "\n",
              "                team2          toss_winner toss_decision               winner  \\\n",
              "713   Kings XI Punjab  Chennai Super Kings           bat  Chennai Super Kings   \n",
              "40     Mumbai Indians      Deccan Chargers         field       Mumbai Indians   \n",
              "899  Rajasthan Royals     Rajasthan Royals         field       Gujarat Titans   \n",
              "154   Deccan Chargers      Deccan Chargers         field      Deccan Chargers   \n",
              "181  Delhi Daredevils     Delhi Daredevils           bat     Rajasthan Royals   \n",
              "\n",
              "      result  result_margin  target_runs  target_overs super_over method  \\\n",
              "713     runs           22.0        161.0          20.0          N    NaN   \n",
              "40      runs           25.0        179.0          20.0          N    NaN   \n",
              "899     runs           37.0        193.0          20.0          N    NaN   \n",
              "154  wickets            7.0        185.0          20.0          N    NaN   \n",
              "181  wickets            6.0        152.0          20.0          N    NaN   \n",
              "\n",
              "                   umpire1    umpire2  \n",
              "713  KN Ananthapadmanabhan  RJ Tucker  \n",
              "40             BR Doctrove  DJ Harper  \n",
              "899            CB Gaffaney   R Pandit  \n",
              "154               S Asnani  DJ Harper  \n",
              "181              Aleem Dar  RB Tiffin  "
            ]
          },
          "execution_count": 437,
          "metadata": {},
          "output_type": "execute_result"
        }
      ],
      "source": [
        "matches.sample(5)"
      ]
    },
    {
      "cell_type": "markdown",
      "metadata": {
        "id": "hYOPVx1ZnI5H"
      },
      "source": [
        "# Data Cleaning"
      ]
    },
    {
      "cell_type": "code",
      "execution_count": 438,
      "metadata": {
        "colab": {
          "base_uri": "https://localhost:8080/",
          "height": 711
        },
        "execution": {
          "iopub.execute_input": "2025-04-07T00:27:44.701175Z",
          "iopub.status.busy": "2025-04-07T00:27:44.700736Z",
          "iopub.status.idle": "2025-04-07T00:27:44.722419Z",
          "shell.execute_reply": "2025-04-07T00:27:44.721228Z",
          "shell.execute_reply.started": "2025-04-07T00:27:44.701126Z"
        },
        "id": "dQLb1Lt3nI5H",
        "outputId": "2cd62914-c318-407f-af68-cb94ed9597d1",
        "trusted": true
      },
      "outputs": [
        {
          "data": {
            "text/plain": [
              "id                    0\n",
              "season                0\n",
              "city                 51\n",
              "date                  0\n",
              "match_type            0\n",
              "player_of_match       5\n",
              "venue                 0\n",
              "team1                 0\n",
              "team2                 0\n",
              "toss_winner           0\n",
              "toss_decision         0\n",
              "winner                5\n",
              "result                0\n",
              "result_margin        19\n",
              "target_runs           3\n",
              "target_overs          3\n",
              "super_over            0\n",
              "method             1074\n",
              "umpire1               0\n",
              "umpire2               0\n",
              "dtype: int64"
            ]
          },
          "execution_count": 438,
          "metadata": {},
          "output_type": "execute_result"
        }
      ],
      "source": [
        "matches.isna().sum()"
      ]
    },
    {
      "cell_type": "markdown",
      "metadata": {
        "id": "Lf-SlbcFnI5I"
      },
      "source": [
        "We can drop the column with high null values"
      ]
    },
    {
      "cell_type": "code",
      "execution_count": 439,
      "metadata": {
        "execution": {
          "iopub.execute_input": "2025-04-07T00:27:44.724125Z",
          "iopub.status.busy": "2025-04-07T00:27:44.723724Z",
          "iopub.status.idle": "2025-04-07T00:27:44.74542Z",
          "shell.execute_reply": "2025-04-07T00:27:44.744128Z",
          "shell.execute_reply.started": "2025-04-07T00:27:44.724093Z"
        },
        "id": "VUQ-MRQ4nI5I",
        "trusted": true
      },
      "outputs": [],
      "source": [
        "#deleting columns that are irrelevant to our analysis.\n",
        "matches.drop(['id', 'method','umpire1','umpire2'], axis=1, inplace=True)"
      ]
    },
    {
      "cell_type": "markdown",
      "metadata": {
        "id": "cxEmLW5MnI5J"
      },
      "source": [
        "Addressing null values in the data"
      ]
    },
    {
      "cell_type": "code",
      "execution_count": 440,
      "metadata": {
        "execution": {
          "iopub.execute_input": "2025-04-07T00:27:44.747151Z",
          "iopub.status.busy": "2025-04-07T00:27:44.746724Z",
          "iopub.status.idle": "2025-04-07T00:27:44.770756Z",
          "shell.execute_reply": "2025-04-07T00:27:44.769193Z",
          "shell.execute_reply.started": "2025-04-07T00:27:44.747108Z"
        },
        "id": "7OGR6SQvnI5J",
        "trusted": true
      },
      "outputs": [],
      "source": [
        "matches.loc[matches['venue'] == 'Sharjah Cricket Stadium', 'city'] = 'Sharjah'\n",
        "matches.loc[matches['venue'] == 'Dubai International Cricket Stadium', 'city'] = 'Dubai'"
      ]
    },
    {
      "cell_type": "code",
      "execution_count": 441,
      "metadata": {
        "execution": {
          "iopub.execute_input": "2025-04-07T00:27:44.772435Z",
          "iopub.status.busy": "2025-04-07T00:27:44.772058Z",
          "iopub.status.idle": "2025-04-07T00:27:44.792026Z",
          "shell.execute_reply": "2025-04-07T00:27:44.790561Z",
          "shell.execute_reply.started": "2025-04-07T00:27:44.772399Z"
        },
        "id": "NE4xqbPMnI5J",
        "trusted": true
      },
      "outputs": [],
      "source": [
        "#filling player of match as 'Unknown' for abandoned matches\n",
        "matches['player_of_match'] = matches['player_of_match'].fillna('Unknown')"
      ]
    },
    {
      "cell_type": "code",
      "execution_count": 442,
      "metadata": {
        "execution": {
          "iopub.execute_input": "2025-04-07T00:27:44.793534Z",
          "iopub.status.busy": "2025-04-07T00:27:44.793207Z",
          "iopub.status.idle": "2025-04-07T00:27:44.813985Z",
          "shell.execute_reply": "2025-04-07T00:27:44.812481Z",
          "shell.execute_reply.started": "2025-04-07T00:27:44.793489Z"
        },
        "id": "TDgJH5mMnI5J",
        "trusted": true
      },
      "outputs": [],
      "source": [
        "matches['winner'] = matches['winner'].fillna('No result')"
      ]
    },
    {
      "cell_type": "code",
      "execution_count": 443,
      "metadata": {
        "execution": {
          "iopub.execute_input": "2025-04-07T00:27:44.815592Z",
          "iopub.status.busy": "2025-04-07T00:27:44.815257Z",
          "iopub.status.idle": "2025-04-07T00:27:44.834623Z",
          "shell.execute_reply": "2025-04-07T00:27:44.833435Z",
          "shell.execute_reply.started": "2025-04-07T00:27:44.815566Z"
        },
        "id": "8acudGD2nI5J",
        "trusted": true
      },
      "outputs": [],
      "source": [
        "#fill na with 0 for tie and abandoned matches\n",
        "matches['result_margin'] = matches['result_margin'].fillna(0)\n",
        "matches['target_runs'] = matches['target_runs'].fillna(0)\n",
        "matches['target_overs'] = matches['target_overs'].fillna(0)"
      ]
    },
    {
      "cell_type": "code",
      "execution_count": 444,
      "metadata": {
        "colab": {
          "base_uri": "https://localhost:8080/",
          "height": 586
        },
        "execution": {
          "iopub.execute_input": "2025-04-07T00:27:44.836265Z",
          "iopub.status.busy": "2025-04-07T00:27:44.835773Z",
          "iopub.status.idle": "2025-04-07T00:27:44.854347Z",
          "shell.execute_reply": "2025-04-07T00:27:44.853173Z",
          "shell.execute_reply.started": "2025-04-07T00:27:44.836228Z"
        },
        "id": "8Dnl0xeEnI5K",
        "outputId": "47b3d4df-9a41-405b-d9b5-6c81c2630539",
        "trusted": true
      },
      "outputs": [
        {
          "data": {
            "text/plain": [
              "season             0\n",
              "city               0\n",
              "date               0\n",
              "match_type         0\n",
              "player_of_match    0\n",
              "venue              0\n",
              "team1              0\n",
              "team2              0\n",
              "toss_winner        0\n",
              "toss_decision      0\n",
              "winner             0\n",
              "result             0\n",
              "result_margin      0\n",
              "target_runs        0\n",
              "target_overs       0\n",
              "super_over         0\n",
              "dtype: int64"
            ]
          },
          "execution_count": 444,
          "metadata": {},
          "output_type": "execute_result"
        }
      ],
      "source": [
        "matches.isna().sum()"
      ]
    },
    {
      "cell_type": "markdown",
      "metadata": {
        "id": "qtK4joBpnI5K"
      },
      "source": [
        "Address consistency in the data"
      ]
    },
    {
      "cell_type": "code",
      "execution_count": 445,
      "metadata": {
        "execution": {
          "iopub.execute_input": "2025-04-07T00:27:44.855614Z",
          "iopub.status.busy": "2025-04-07T00:27:44.855329Z",
          "iopub.status.idle": "2025-04-07T00:27:44.877337Z",
          "shell.execute_reply": "2025-04-07T00:27:44.876193Z",
          "shell.execute_reply.started": "2025-04-07T00:27:44.85559Z"
        },
        "id": "UeMYpgb9nI5K",
        "trusted": true
      },
      "outputs": [],
      "source": [
        "matches.loc[matches['season'] == '2007/08', 'season'] = '2008'\n",
        "matches.loc[matches['season'] == '2009/10', 'season'] = '2010'\n",
        "matches.loc[matches['season'] == '2020/21', 'season'] = '2020'"
      ]
    },
    {
      "cell_type": "code",
      "execution_count": 446,
      "metadata": {
        "colab": {
          "base_uri": "https://localhost:8080/"
        },
        "execution": {
          "iopub.execute_input": "2025-04-07T00:27:44.878752Z",
          "iopub.status.busy": "2025-04-07T00:27:44.878433Z",
          "iopub.status.idle": "2025-04-07T00:27:44.89739Z",
          "shell.execute_reply": "2025-04-07T00:27:44.896329Z",
          "shell.execute_reply.started": "2025-04-07T00:27:44.878727Z"
        },
        "id": "248JTV5LnI5K",
        "outputId": "10987f33-a433-44b4-8115-3bead4498bef",
        "trusted": true
      },
      "outputs": [
        {
          "data": {
            "text/plain": [
              "array(['Royal Challengers Bangalore', 'Kings XI Punjab',\n",
              "       'Delhi Daredevils', 'Mumbai Indians', 'Kolkata Knight Riders',\n",
              "       'Rajasthan Royals', 'Deccan Chargers', 'Chennai Super Kings',\n",
              "       'Kochi Tuskers Kerala', 'Pune Warriors', 'Sunrisers Hyderabad',\n",
              "       'Gujarat Lions', 'Rising Pune Supergiants',\n",
              "       'Rising Pune Supergiant', 'Delhi Capitals', 'Punjab Kings',\n",
              "       'Lucknow Super Giants', 'Gujarat Titans',\n",
              "       'Royal Challengers Bengaluru'], dtype=object)"
            ]
          },
          "execution_count": 446,
          "metadata": {},
          "output_type": "execute_result"
        }
      ],
      "source": [
        "unique_values = matches['team1'].unique()\n",
        "unique_values"
      ]
    },
    {
      "cell_type": "markdown",
      "metadata": {
        "id": "B7FEYCSYnI5K"
      },
      "source": [
        "There are teams with old names in it that needs to be updated."
      ]
    },
    {
      "cell_type": "code",
      "execution_count": 447,
      "metadata": {
        "execution": {
          "iopub.execute_input": "2025-04-07T00:27:44.900537Z",
          "iopub.status.busy": "2025-04-07T00:27:44.900181Z",
          "iopub.status.idle": "2025-04-07T00:27:44.925358Z",
          "shell.execute_reply": "2025-04-07T00:27:44.92419Z",
          "shell.execute_reply.started": "2025-04-07T00:27:44.900507Z"
        },
        "id": "MPcK2LRrnI5K",
        "trusted": true
      },
      "outputs": [],
      "source": [
        "value_mapping = {\n",
        "    'Kings XI Punjab': 'Punjab Kings',\n",
        "    'Delhi Daredevils': 'Delhi Capitals',\n",
        "    'Gujarat Lions': 'Gujarat Titans',\n",
        "    'Pune Warriors': 'Rising Pune Supergiants',\n",
        "    'Deccan Chargers': 'Sunrisers Hyderabad',\n",
        "    'Rising Pune Supergiant': 'Rising Pune Supergiants',\n",
        "    'Royal Challengers Bangalore': 'Royal Challengers Bengaluru'\n",
        "\n",
        "\n",
        "}\n",
        "\n",
        "team_columns = ['winner', 'team1', 'team2', 'toss_winner']\n",
        "\n",
        "matches[team_columns] = matches[team_columns].replace(value_mapping)"
      ]
    },
    {
      "cell_type": "code",
      "execution_count": 448,
      "metadata": {
        "colab": {
          "base_uri": "https://localhost:8080/"
        },
        "execution": {
          "iopub.execute_input": "2025-04-07T00:27:44.979076Z",
          "iopub.status.busy": "2025-04-07T00:27:44.978665Z",
          "iopub.status.idle": "2025-04-07T00:27:44.987776Z",
          "shell.execute_reply": "2025-04-07T00:27:44.986511Z",
          "shell.execute_reply.started": "2025-04-07T00:27:44.979044Z"
        },
        "id": "ZifR6NX6nI5L",
        "outputId": "c649c8e5-3152-4ecd-84b6-8f09567cc383",
        "trusted": true
      },
      "outputs": [
        {
          "name": "stdout",
          "output_type": "stream",
          "text": [
            "Count of unique values in 'winner': 13\n",
            "Count of unique values in 'team1': 12\n",
            "Count of unique values in 'team2': 12\n",
            "Count of unique values in 'toss_winner': 12\n"
          ]
        }
      ],
      "source": [
        "#Count of unique teams in each column\n",
        "unique_counts_by_column = {}\n",
        "\n",
        "selected_columns = ['winner', 'team1', 'team2', 'toss_winner']\n",
        "\n",
        "for col in selected_columns:\n",
        "    unique_counts_by_column[col] = matches[col].nunique()\n",
        "\n",
        "# Print the count of unique values for each column\n",
        "for col, unique_count in unique_counts_by_column.items():\n",
        "    print(f\"Count of unique values in '{col}': {unique_count}\")\n"
      ]
    },
    {
      "cell_type": "markdown",
      "metadata": {
        "id": "v_BWvkn_nI5L"
      },
      "source": [
        "We have same 12 unique teams in our data now. Winner has additional - no result"
      ]
    },
    {
      "cell_type": "code",
      "execution_count": 449,
      "metadata": {
        "colab": {
          "base_uri": "https://localhost:8080/"
        },
        "execution": {
          "iopub.execute_input": "2025-04-07T00:27:45.476891Z",
          "iopub.status.busy": "2025-04-07T00:27:45.476151Z",
          "iopub.status.idle": "2025-04-07T00:27:45.489141Z",
          "shell.execute_reply": "2025-04-07T00:27:45.487828Z",
          "shell.execute_reply.started": "2025-04-07T00:27:45.476846Z"
        },
        "id": "ebI7FdsAnI5L",
        "outputId": "66b274ec-3f59-4c38-d8c4-ff45fbd6e43e",
        "trusted": true
      },
      "outputs": [
        {
          "name": "stdout",
          "output_type": "stream",
          "text": [
            "Unique values in city: ['Bangalore' 'Chandigarh' 'Delhi' 'Mumbai' 'Kolkata' 'Jaipur' 'Hyderabad'\n",
            " 'Chennai' 'Cape Town' 'Port Elizabeth' 'Durban' 'Centurion' 'East London'\n",
            " 'Johannesburg' 'Kimberley' 'Bloemfontein' 'Ahmedabad' 'Cuttack' 'Nagpur'\n",
            " 'Dharamsala' 'Kochi' 'Indore' 'Visakhapatnam' 'Pune' 'Raipur' 'Ranchi'\n",
            " 'Abu Dhabi' 'Sharjah' 'Dubai' 'Rajkot' 'Kanpur' 'Bengaluru' 'Navi Mumbai'\n",
            " 'Lucknow' 'Guwahati' 'Mohali']\n",
            "Unique values in venue: ['M Chinnaswamy Stadium' 'Punjab Cricket Association Stadium, Mohali'\n",
            " 'Feroz Shah Kotla' 'Wankhede Stadium' 'Eden Gardens'\n",
            " 'Sawai Mansingh Stadium' 'Rajiv Gandhi International Stadium, Uppal'\n",
            " 'MA Chidambaram Stadium, Chepauk' 'Dr DY Patil Sports Academy' 'Newlands'\n",
            " \"St George's Park\" 'Kingsmead' 'SuperSport Park' 'Buffalo Park'\n",
            " 'New Wanderers Stadium' 'De Beers Diamond Oval' 'OUTsurance Oval'\n",
            " 'Brabourne Stadium' 'Sardar Patel Stadium, Motera' 'Barabati Stadium'\n",
            " 'Brabourne Stadium, Mumbai'\n",
            " 'Vidarbha Cricket Association Stadium, Jamtha'\n",
            " 'Himachal Pradesh Cricket Association Stadium' 'Nehru Stadium'\n",
            " 'Holkar Cricket Stadium'\n",
            " 'Dr. Y.S. Rajasekhara Reddy ACA-VDCA Cricket Stadium'\n",
            " 'Subrata Roy Sahara Stadium' 'Maharashtra Cricket Association Stadium'\n",
            " 'Shaheed Veer Narayan Singh International Stadium'\n",
            " 'JSCA International Stadium Complex' 'Sheikh Zayed Stadium'\n",
            " 'Sharjah Cricket Stadium' 'Dubai International Cricket Stadium'\n",
            " 'Punjab Cricket Association IS Bindra Stadium, Mohali'\n",
            " 'Saurashtra Cricket Association Stadium' 'Green Park'\n",
            " 'M.Chinnaswamy Stadium' 'Punjab Cricket Association IS Bindra Stadium'\n",
            " 'Rajiv Gandhi International Stadium' 'MA Chidambaram Stadium'\n",
            " 'Arun Jaitley Stadium' 'MA Chidambaram Stadium, Chepauk, Chennai'\n",
            " 'Wankhede Stadium, Mumbai' 'Narendra Modi Stadium, Ahmedabad'\n",
            " 'Arun Jaitley Stadium, Delhi' 'Zayed Cricket Stadium, Abu Dhabi'\n",
            " 'Dr DY Patil Sports Academy, Mumbai'\n",
            " 'Maharashtra Cricket Association Stadium, Pune' 'Eden Gardens, Kolkata'\n",
            " 'Punjab Cricket Association IS Bindra Stadium, Mohali, Chandigarh'\n",
            " 'Bharat Ratna Shri Atal Bihari Vajpayee Ekana Cricket Stadium, Lucknow'\n",
            " 'Rajiv Gandhi International Stadium, Uppal, Hyderabad'\n",
            " 'M Chinnaswamy Stadium, Bengaluru' 'Barsapara Cricket Stadium, Guwahati'\n",
            " 'Sawai Mansingh Stadium, Jaipur'\n",
            " 'Himachal Pradesh Cricket Association Stadium, Dharamsala'\n",
            " 'Maharaja Yadavindra Singh International Cricket Stadium, Mullanpur'\n",
            " 'Dr. Y.S. Rajasekhara Reddy ACA-VDCA Cricket Stadium, Visakhapatnam']\n",
            "Unique values in team1: ['Royal Challengers Bengaluru' 'Punjab Kings' 'Delhi Capitals'\n",
            " 'Mumbai Indians' 'Kolkata Knight Riders' 'Rajasthan Royals'\n",
            " 'Sunrisers Hyderabad' 'Chennai Super Kings' 'Kochi Tuskers Kerala'\n",
            " 'Rising Pune Supergiants' 'Gujarat Titans' 'Lucknow Super Giants']\n",
            "Unique values in team2: ['Kolkata Knight Riders' 'Chennai Super Kings' 'Rajasthan Royals'\n",
            " 'Royal Challengers Bengaluru' 'Sunrisers Hyderabad' 'Punjab Kings'\n",
            " 'Delhi Capitals' 'Mumbai Indians' 'Kochi Tuskers Kerala'\n",
            " 'Rising Pune Supergiants' 'Gujarat Titans' 'Lucknow Super Giants']\n",
            "Unique values in toss_winner: ['Royal Challengers Bengaluru' 'Chennai Super Kings' 'Rajasthan Royals'\n",
            " 'Mumbai Indians' 'Sunrisers Hyderabad' 'Punjab Kings'\n",
            " 'Kolkata Knight Riders' 'Delhi Capitals' 'Kochi Tuskers Kerala'\n",
            " 'Rising Pune Supergiants' 'Gujarat Titans' 'Lucknow Super Giants']\n",
            "Unique values in winner: ['Kolkata Knight Riders' 'Chennai Super Kings' 'Delhi Capitals'\n",
            " 'Royal Challengers Bengaluru' 'Rajasthan Royals' 'Punjab Kings'\n",
            " 'Sunrisers Hyderabad' 'Mumbai Indians' 'Rising Pune Supergiants'\n",
            " 'Kochi Tuskers Kerala' 'No result' 'Gujarat Titans'\n",
            " 'Lucknow Super Giants']\n"
          ]
        }
      ],
      "source": [
        "columns = ['city','venue', 'team1', 'team2','toss_winner','winner'] \n",
        "\n",
        "for col in columns:\n",
        "    print(f\"Unique values in {col}: {matches[col].unique()}\")"
      ]
    },
    {
      "cell_type": "code",
      "execution_count": 450,
      "metadata": {
        "execution": {
          "iopub.execute_input": "2025-04-07T00:27:45.534738Z",
          "iopub.status.busy": "2025-04-07T00:27:45.534386Z",
          "iopub.status.idle": "2025-04-07T00:27:45.54465Z",
          "shell.execute_reply": "2025-04-07T00:27:45.543274Z",
          "shell.execute_reply.started": "2025-04-07T00:27:45.534712Z"
        },
        "id": "JXM3y_EdnI5L",
        "trusted": true
      },
      "outputs": [],
      "source": [
        "#renaming values to keep consistency\n",
        "matches.loc[matches['city'] == 'Bangalore', 'city'] = 'Bengaluru'\n",
        "matches['venue'] = matches['venue'].str.split(',', n=1).str[0]\n",
        "matches.loc[matches['venue'] == 'M.Chinnaswamy Stadium', 'venue'] = 'M Chinnaswamy Stadium'"
      ]
    },
    {
      "cell_type": "code",
      "execution_count": 451,
      "metadata": {
        "colab": {
          "base_uri": "https://localhost:8080/"
        },
        "execution": {
          "iopub.execute_input": "2025-04-07T00:27:45.62386Z",
          "iopub.status.busy": "2025-04-07T00:27:45.623491Z",
          "iopub.status.idle": "2025-04-07T00:27:45.638212Z",
          "shell.execute_reply": "2025-04-07T00:27:45.637018Z",
          "shell.execute_reply.started": "2025-04-07T00:27:45.623829Z"
        },
        "id": "eQiqSe1JnI5L",
        "outputId": "5f2cf81e-a62f-4304-b07a-90b8ef3af555",
        "trusted": true
      },
      "outputs": [
        {
          "name": "stdout",
          "output_type": "stream",
          "text": [
            "<class 'pandas.core.frame.DataFrame'>\n",
            "RangeIndex: 1095 entries, 0 to 1094\n",
            "Data columns (total 16 columns):\n",
            " #   Column           Non-Null Count  Dtype  \n",
            "---  ------           --------------  -----  \n",
            " 0   season           1095 non-null   object \n",
            " 1   city             1095 non-null   object \n",
            " 2   date             1095 non-null   object \n",
            " 3   match_type       1095 non-null   object \n",
            " 4   player_of_match  1095 non-null   object \n",
            " 5   venue            1095 non-null   object \n",
            " 6   team1            1095 non-null   object \n",
            " 7   team2            1095 non-null   object \n",
            " 8   toss_winner      1095 non-null   object \n",
            " 9   toss_decision    1095 non-null   object \n",
            " 10  winner           1095 non-null   object \n",
            " 11  result           1095 non-null   object \n",
            " 12  result_margin    1095 non-null   float64\n",
            " 13  target_runs      1095 non-null   float64\n",
            " 14  target_overs     1095 non-null   float64\n",
            " 15  super_over       1095 non-null   object \n",
            "dtypes: float64(3), object(13)\n",
            "memory usage: 137.0+ KB\n"
          ]
        }
      ],
      "source": [
        "matches.info()"
      ]
    },
    {
      "cell_type": "markdown",
      "metadata": {
        "id": "wVrmM5EYnI5M"
      },
      "source": [
        "# EDA"
      ]
    },
    {
      "cell_type": "code",
      "execution_count": 452,
      "metadata": {
        "colab": {
          "base_uri": "https://localhost:8080/",
          "height": 425
        },
        "execution": {
          "iopub.execute_input": "2025-04-07T00:27:45.705744Z",
          "iopub.status.busy": "2025-04-07T00:27:45.705401Z",
          "iopub.status.idle": "2025-04-07T00:27:45.752199Z",
          "shell.execute_reply": "2025-04-07T00:27:45.750543Z",
          "shell.execute_reply.started": "2025-04-07T00:27:45.705719Z"
        },
        "id": "HzFfAwWtnI5M",
        "outputId": "7a38b172-c305-43a0-ee6c-1b494f76b226",
        "trusted": true
      },
      "outputs": [
        {
          "data": {
            "text/html": [
              "<div>\n",
              "<style scoped>\n",
              "    .dataframe tbody tr th:only-of-type {\n",
              "        vertical-align: middle;\n",
              "    }\n",
              "\n",
              "    .dataframe tbody tr th {\n",
              "        vertical-align: top;\n",
              "    }\n",
              "\n",
              "    .dataframe thead th {\n",
              "        text-align: right;\n",
              "    }\n",
              "</style>\n",
              "<table border=\"1\" class=\"dataframe\">\n",
              "  <thead>\n",
              "    <tr style=\"text-align: right;\">\n",
              "      <th></th>\n",
              "      <th>team_name</th>\n",
              "      <th>matches_played</th>\n",
              "      <th>matches_won</th>\n",
              "      <th>win_percentage</th>\n",
              "      <th>rank</th>\n",
              "    </tr>\n",
              "  </thead>\n",
              "  <tbody>\n",
              "    <tr>\n",
              "      <th>7</th>\n",
              "      <td>Chennai Super Kings</td>\n",
              "      <td>238</td>\n",
              "      <td>138</td>\n",
              "      <td>57.983193</td>\n",
              "      <td>1</td>\n",
              "    </tr>\n",
              "    <tr>\n",
              "      <th>3</th>\n",
              "      <td>Mumbai Indians</td>\n",
              "      <td>261</td>\n",
              "      <td>144</td>\n",
              "      <td>55.172414</td>\n",
              "      <td>2</td>\n",
              "    </tr>\n",
              "    <tr>\n",
              "      <th>10</th>\n",
              "      <td>Gujarat Titans</td>\n",
              "      <td>75</td>\n",
              "      <td>41</td>\n",
              "      <td>54.666667</td>\n",
              "      <td>3</td>\n",
              "    </tr>\n",
              "    <tr>\n",
              "      <th>11</th>\n",
              "      <td>Lucknow Super Giants</td>\n",
              "      <td>44</td>\n",
              "      <td>24</td>\n",
              "      <td>54.545455</td>\n",
              "      <td>4</td>\n",
              "    </tr>\n",
              "    <tr>\n",
              "      <th>4</th>\n",
              "      <td>Kolkata Knight Riders</td>\n",
              "      <td>251</td>\n",
              "      <td>131</td>\n",
              "      <td>52.191235</td>\n",
              "      <td>5</td>\n",
              "    </tr>\n",
              "    <tr>\n",
              "      <th>5</th>\n",
              "      <td>Rajasthan Royals</td>\n",
              "      <td>221</td>\n",
              "      <td>112</td>\n",
              "      <td>50.678733</td>\n",
              "      <td>6</td>\n",
              "    </tr>\n",
              "    <tr>\n",
              "      <th>0</th>\n",
              "      <td>Royal Challengers Bengaluru</td>\n",
              "      <td>255</td>\n",
              "      <td>123</td>\n",
              "      <td>48.235294</td>\n",
              "      <td>7</td>\n",
              "    </tr>\n",
              "    <tr>\n",
              "      <th>2</th>\n",
              "      <td>Delhi Capitals</td>\n",
              "      <td>252</td>\n",
              "      <td>115</td>\n",
              "      <td>45.634921</td>\n",
              "      <td>8</td>\n",
              "    </tr>\n",
              "    <tr>\n",
              "      <th>1</th>\n",
              "      <td>Punjab Kings</td>\n",
              "      <td>246</td>\n",
              "      <td>112</td>\n",
              "      <td>45.528455</td>\n",
              "      <td>9</td>\n",
              "    </tr>\n",
              "    <tr>\n",
              "      <th>6</th>\n",
              "      <td>Sunrisers Hyderabad</td>\n",
              "      <td>257</td>\n",
              "      <td>117</td>\n",
              "      <td>45.525292</td>\n",
              "      <td>10</td>\n",
              "    </tr>\n",
              "    <tr>\n",
              "      <th>8</th>\n",
              "      <td>Kochi Tuskers Kerala</td>\n",
              "      <td>14</td>\n",
              "      <td>6</td>\n",
              "      <td>42.857143</td>\n",
              "      <td>11</td>\n",
              "    </tr>\n",
              "    <tr>\n",
              "      <th>9</th>\n",
              "      <td>Rising Pune Supergiants</td>\n",
              "      <td>76</td>\n",
              "      <td>27</td>\n",
              "      <td>35.526316</td>\n",
              "      <td>12</td>\n",
              "    </tr>\n",
              "  </tbody>\n",
              "</table>\n",
              "</div>"
            ],
            "text/plain": [
              "                      team_name  matches_played  matches_won  win_percentage  \\\n",
              "7           Chennai Super Kings             238          138       57.983193   \n",
              "3                Mumbai Indians             261          144       55.172414   \n",
              "10               Gujarat Titans              75           41       54.666667   \n",
              "11         Lucknow Super Giants              44           24       54.545455   \n",
              "4         Kolkata Knight Riders             251          131       52.191235   \n",
              "5              Rajasthan Royals             221          112       50.678733   \n",
              "0   Royal Challengers Bengaluru             255          123       48.235294   \n",
              "2                Delhi Capitals             252          115       45.634921   \n",
              "1                  Punjab Kings             246          112       45.528455   \n",
              "6           Sunrisers Hyderabad             257          117       45.525292   \n",
              "8          Kochi Tuskers Kerala              14            6       42.857143   \n",
              "9       Rising Pune Supergiants              76           27       35.526316   \n",
              "\n",
              "    rank  \n",
              "7      1  \n",
              "3      2  \n",
              "10     3  \n",
              "11     4  \n",
              "4      5  \n",
              "5      6  \n",
              "0      7  \n",
              "2      8  \n",
              "1      9  \n",
              "6     10  \n",
              "8     11  \n",
              "9     12  "
            ]
          },
          "execution_count": 452,
          "metadata": {},
          "output_type": "execute_result"
        }
      ],
      "source": [
        "teams = pd.concat([matches['team1'], matches['team2']]).unique()\n",
        "team_stats = pd.DataFrame(teams, columns=['team_name'])\n",
        "\n",
        "# Calculate matches played and won\n",
        "team_stats['matches_played'] = team_stats['team_name'].apply(lambda x: len(matches[(matches['team1'] == x) | (matches['team2'] == x)]))\n",
        "team_stats['matches_won'] = team_stats['team_name'].apply(lambda x: len(matches[matches['winner'] == x]))\n",
        "team_stats['win_percentage'] = (team_stats['matches_won'] / team_stats['matches_played']) * 100\n",
        "\n",
        "team_stats = team_stats.sort_values(by='win_percentage', ascending=False)\n",
        "\n",
        "# Add rank based on win percentage\n",
        "team_stats['rank'] = team_stats['win_percentage'].rank(method='dense', ascending=False).astype(int)\n",
        "\n",
        "team_stats\n",
        "\n"
      ]
    },
    {
      "cell_type": "code",
      "execution_count": 453,
      "metadata": {
        "colab": {
          "base_uri": "https://localhost:8080/",
          "height": 751
        },
        "id": "C_dtTlFl1glb",
        "outputId": "fed90624-bea3-42ad-f4c9-7805d274f07a"
      },
      "outputs": [
        {
          "data": {
            "image/png": "[encoded data removed]",
            "text/plain": [
              "<Figure size 1000x600 with 1 Axes>"
            ]
          },
          "metadata": {},
          "output_type": "display_data"
        }
      ],
      "source": [
        "import matplotlib.pyplot as plt\n",
        "import seaborn as sns\n",
        "\n",
        "# Calculate win percentages (assuming 'team_stats' DataFrame is available)\n",
        "team_stats['win_percentage'] = (team_stats['matches_won'] / team_stats['matches_played']) * 100\n",
        "\n",
        "# Sort by win percentage\n",
        "team_stats = team_stats.sort_values(by='win_percentage', ascending=False)\n",
        "\n",
        "# Bar chart for win percentages\n",
        "plt.figure(figsize=(10, 6))\n",
        "sns.barplot(x='team_name', y='win_percentage', data=team_stats)\n",
        "plt.title('Team Win Percentages')\n",
        "plt.xticks(rotation=90)\n",
        "plt.show()"
      ]
    },
    {
      "cell_type": "code",
      "execution_count": 454,
      "metadata": {
        "colab": {
          "base_uri": "https://localhost:8080/",
          "height": 751
        },
        "id": "XM1K1EM20X8p",
        "outputId": "8ba08873-1ea6-4bbe-9343-2f64dab6f895"
      },
      "outputs": [
        {
          "data": {
            "image/png": "[encoded data removed]",
            "text/plain": [
              "<Figure size 1000x600 with 1 Axes>"
            ]
          },
          "metadata": {},
          "output_type": "display_data"
        }
      ],
      "source": [
        "import matplotlib.pyplot as plt\n",
        "team_wins = matches['winner'].value_counts()\n",
        "plt.figure(figsize=(10, 6))\n",
        "plt.bar(team_wins.index, team_wins.values)\n",
        "plt.xlabel('Team')\n",
        "plt.ylabel('Number of Wins')\n",
        "plt.title('Number of Wins by Team')\n",
        "plt.xticks(rotation=90)\n",
        "plt.show()"
      ]
    },
    {
      "cell_type": "code",
      "execution_count": 455,
      "metadata": {
        "colab": {
          "base_uri": "https://localhost:8080/",
          "height": 521
        },
        "id": "eY6PPc6r0lQU",
        "outputId": "2307facd-35c7-4cd8-f5f3-439294d3f67b"
      },
      "outputs": [
        {
          "data": {
            "image/png": "[encoded data removed]",
            "text/plain": [
              "<Figure size 600x600 with 1 Axes>"
            ]
          },
          "metadata": {},
          "output_type": "display_data"
        }
      ],
      "source": [
        "import matplotlib.pyplot as plt\n",
        "toss_decisions = matches['toss_decision'].value_counts()\n",
        "\n",
        "plt.figure(figsize=(6, 6))\n",
        "plt.pie(toss_decisions.values, labels=toss_decisions.index, autopct='%1.1f%%',\n",
        "        startangle=90, colors=['skyblue', 'orange'])\n",
        "plt.title('Toss Decision Frequency')\n",
        "plt.axis('equal')\n",
        "plt.show()"
      ]
    },
    {
      "cell_type": "code",
      "execution_count": 459,
      "metadata": {},
      "outputs": [],
      "source": [
        "matches.to_csv(\"matches_24.csv\", index=False)"
      ]
    },
    {
      "cell_type": "markdown",
      "metadata": {
        "id": "kW1sfYPvnI5M"
      },
      "source": [
        "## Season 2025 data"
      ]
    },
    {
      "cell_type": "code",
      "execution_count": 465,
      "metadata": {
        "colab": {
          "base_uri": "https://localhost:8080/",
          "height": 678
        },
        "execution": {
          "iopub.execute_input": "2025-04-07T00:27:45.868864Z",
          "iopub.status.busy": "2025-04-07T00:27:45.868468Z",
          "iopub.status.idle": "2025-04-07T00:27:45.889857Z",
          "shell.execute_reply": "2025-04-07T00:27:45.888365Z",
          "shell.execute_reply.started": "2025-04-07T00:27:45.868833Z"
        },
        "id": "0Xpsb2J0nI5N",
        "outputId": "52156802-bacd-42b0-e1f1-59dc00002613",
        "trusted": true
      },
      "outputs": [
        {
          "data": {
            "text/html": [
              "<div>\n",
              "<style scoped>\n",
              "    .dataframe tbody tr th:only-of-type {\n",
              "        vertical-align: middle;\n",
              "    }\n",
              "\n",
              "    .dataframe tbody tr th {\n",
              "        vertical-align: top;\n",
              "    }\n",
              "\n",
              "    .dataframe thead th {\n",
              "        text-align: right;\n",
              "    }\n",
              "</style>\n",
              "<table border=\"1\" class=\"dataframe\">\n",
              "  <thead>\n",
              "    <tr style=\"text-align: right;\">\n",
              "      <th></th>\n",
              "      <th>Season</th>\n",
              "      <th>City</th>\n",
              "      <th>Date</th>\n",
              "      <th>Match_Type</th>\n",
              "      <th>Player_of_match</th>\n",
              "      <th>Venue</th>\n",
              "      <th>team1</th>\n",
              "      <th>team2</th>\n",
              "      <th>toss_winner</th>\n",
              "      <th>toss_decision</th>\n",
              "      <th>winner</th>\n",
              "      <th>result</th>\n",
              "      <th>result_margin</th>\n",
              "      <th>target_runs</th>\n",
              "      <th>target_overs</th>\n",
              "      <th>super_over</th>\n",
              "    </tr>\n",
              "  </thead>\n",
              "  <tbody>\n",
              "    <tr>\n",
              "      <th>72</th>\n",
              "      <td>2025</td>\n",
              "      <td>Kolkata</td>\n",
              "      <td>5/23/2025</td>\n",
              "      <td>Qualifier 2</td>\n",
              "      <td>NaN</td>\n",
              "      <td>Eden Gardens</td>\n",
              "      <td>TBD</td>\n",
              "      <td>TBD</td>\n",
              "      <td>Unknown</td>\n",
              "      <td>NaN</td>\n",
              "      <td>Unknown</td>\n",
              "      <td>NaN</td>\n",
              "      <td>NaN</td>\n",
              "      <td>NaN</td>\n",
              "      <td>NaN</td>\n",
              "      <td>NaN</td>\n",
              "    </tr>\n",
              "    <tr>\n",
              "      <th>64</th>\n",
              "      <td>2025</td>\n",
              "      <td>Ahmedabad</td>\n",
              "      <td>5/14/2025</td>\n",
              "      <td>League</td>\n",
              "      <td>NaN</td>\n",
              "      <td>Narendra Modi Stadium</td>\n",
              "      <td>Gujarat Titans</td>\n",
              "      <td>Lucknow Super Giants</td>\n",
              "      <td>Unknown</td>\n",
              "      <td>NaN</td>\n",
              "      <td>Unknown</td>\n",
              "      <td>NaN</td>\n",
              "      <td>NaN</td>\n",
              "      <td>NaN</td>\n",
              "      <td>NaN</td>\n",
              "      <td>NaN</td>\n",
              "    </tr>\n",
              "    <tr>\n",
              "      <th>32</th>\n",
              "      <td>2025</td>\n",
              "      <td>Mumbai</td>\n",
              "      <td>4/17/2025</td>\n",
              "      <td>League</td>\n",
              "      <td>NaN</td>\n",
              "      <td>Wankhede Stadium</td>\n",
              "      <td>Mumbai Indians</td>\n",
              "      <td>Sunrisers Hyderabad</td>\n",
              "      <td>Unknown</td>\n",
              "      <td>NaN</td>\n",
              "      <td>Unknown</td>\n",
              "      <td>NaN</td>\n",
              "      <td>NaN</td>\n",
              "      <td>NaN</td>\n",
              "      <td>NaN</td>\n",
              "      <td>NaN</td>\n",
              "    </tr>\n",
              "    <tr>\n",
              "      <th>49</th>\n",
              "      <td>2025</td>\n",
              "      <td>Jaipur</td>\n",
              "      <td>5/1/2025</td>\n",
              "      <td>League</td>\n",
              "      <td>NaN</td>\n",
              "      <td>Sawai Mansingh Stadium</td>\n",
              "      <td>Rajasthan Royals</td>\n",
              "      <td>Mumbai Indians</td>\n",
              "      <td>Unknown</td>\n",
              "      <td>NaN</td>\n",
              "      <td>Unknown</td>\n",
              "      <td>NaN</td>\n",
              "      <td>NaN</td>\n",
              "      <td>NaN</td>\n",
              "      <td>NaN</td>\n",
              "      <td>NaN</td>\n",
              "    </tr>\n",
              "    <tr>\n",
              "      <th>68</th>\n",
              "      <td>2025</td>\n",
              "      <td>Ahmedabad</td>\n",
              "      <td>5/18/2025</td>\n",
              "      <td>League</td>\n",
              "      <td>NaN</td>\n",
              "      <td>Narendra Modi Stadium</td>\n",
              "      <td>Gujarat Titans</td>\n",
              "      <td>Chennai Super Kings</td>\n",
              "      <td>Unknown</td>\n",
              "      <td>NaN</td>\n",
              "      <td>Unknown</td>\n",
              "      <td>NaN</td>\n",
              "      <td>NaN</td>\n",
              "      <td>NaN</td>\n",
              "      <td>NaN</td>\n",
              "      <td>NaN</td>\n",
              "    </tr>\n",
              "    <tr>\n",
              "      <th>2</th>\n",
              "      <td>2025</td>\n",
              "      <td>Chennai</td>\n",
              "      <td>3/23/2025</td>\n",
              "      <td>League</td>\n",
              "      <td>Noor Ahmad</td>\n",
              "      <td>MA Chidambaram Stadium</td>\n",
              "      <td>Chennai Super Kings</td>\n",
              "      <td>Mumbai Indians</td>\n",
              "      <td>Chennai Super Kings</td>\n",
              "      <td>field</td>\n",
              "      <td>Chennai Super Kings</td>\n",
              "      <td>wickets</td>\n",
              "      <td>4.0</td>\n",
              "      <td>156.0</td>\n",
              "      <td>20.0</td>\n",
              "      <td>N</td>\n",
              "    </tr>\n",
              "    <tr>\n",
              "      <th>27</th>\n",
              "      <td>2025</td>\n",
              "      <td>Jaipur</td>\n",
              "      <td>4/13/2025</td>\n",
              "      <td>League</td>\n",
              "      <td>NaN</td>\n",
              "      <td>Sawai Mansingh Stadium</td>\n",
              "      <td>Rajasthan Royals</td>\n",
              "      <td>Royal Challengers Bengaluru</td>\n",
              "      <td>Unknown</td>\n",
              "      <td>NaN</td>\n",
              "      <td>Unknown</td>\n",
              "      <td>NaN</td>\n",
              "      <td>NaN</td>\n",
              "      <td>NaN</td>\n",
              "      <td>NaN</td>\n",
              "      <td>NaN</td>\n",
              "    </tr>\n",
              "    <tr>\n",
              "      <th>60</th>\n",
              "      <td>2025</td>\n",
              "      <td>Dharamsala</td>\n",
              "      <td>5/11/2025</td>\n",
              "      <td>League</td>\n",
              "      <td>NaN</td>\n",
              "      <td>Himachal Pradesh Cricket Association Stadium</td>\n",
              "      <td>Punjab Kings</td>\n",
              "      <td>Mumbai Indians</td>\n",
              "      <td>Unknown</td>\n",
              "      <td>NaN</td>\n",
              "      <td>Unknown</td>\n",
              "      <td>NaN</td>\n",
              "      <td>NaN</td>\n",
              "      <td>NaN</td>\n",
              "      <td>NaN</td>\n",
              "      <td>NaN</td>\n",
              "    </tr>\n",
              "    <tr>\n",
              "      <th>1</th>\n",
              "      <td>2025</td>\n",
              "      <td>Hyderabad</td>\n",
              "      <td>3/23/2025</td>\n",
              "      <td>League</td>\n",
              "      <td>Ishan Kishan</td>\n",
              "      <td>Rajiv Gandhi International Stadium</td>\n",
              "      <td>Sunrisers Hyderabad</td>\n",
              "      <td>Rajasthan Royals</td>\n",
              "      <td>Rajasthan Royals</td>\n",
              "      <td>field</td>\n",
              "      <td>Sunrisers Hyderabad</td>\n",
              "      <td>runs</td>\n",
              "      <td>44.0</td>\n",
              "      <td>287.0</td>\n",
              "      <td>20.0</td>\n",
              "      <td>N</td>\n",
              "    </tr>\n",
              "    <tr>\n",
              "      <th>12</th>\n",
              "      <td>2025</td>\n",
              "      <td>Lucknow</td>\n",
              "      <td>4/1/2025</td>\n",
              "      <td>League</td>\n",
              "      <td>Prabhsimran Singh</td>\n",
              "      <td>Bharat Ratna Shri Atal Bihari Vajpayee Ekana C...</td>\n",
              "      <td>Lucknow Super Giants</td>\n",
              "      <td>Punjab Kings</td>\n",
              "      <td>Punjab Kings</td>\n",
              "      <td>field</td>\n",
              "      <td>Punjab Kings</td>\n",
              "      <td>wickets</td>\n",
              "      <td>8.0</td>\n",
              "      <td>172.0</td>\n",
              "      <td>20.0</td>\n",
              "      <td>N</td>\n",
              "    </tr>\n",
              "  </tbody>\n",
              "</table>\n",
              "</div>"
            ],
            "text/plain": [
              "    Season        City       Date   Match_Type    Player_of_match  \\\n",
              "72    2025     Kolkata  5/23/2025  Qualifier 2                NaN   \n",
              "64    2025   Ahmedabad  5/14/2025       League                NaN   \n",
              "32    2025      Mumbai  4/17/2025       League                NaN   \n",
              "49    2025      Jaipur   5/1/2025       League                NaN   \n",
              "68    2025   Ahmedabad  5/18/2025       League                NaN   \n",
              "2     2025     Chennai  3/23/2025       League         Noor Ahmad   \n",
              "27    2025      Jaipur  4/13/2025       League                NaN   \n",
              "60    2025  Dharamsala  5/11/2025       League                NaN   \n",
              "1     2025   Hyderabad  3/23/2025       League       Ishan Kishan   \n",
              "12    2025     Lucknow   4/1/2025       League  Prabhsimran Singh   \n",
              "\n",
              "                                                Venue                 team1  \\\n",
              "72                                       Eden Gardens                   TBD   \n",
              "64                              Narendra Modi Stadium        Gujarat Titans   \n",
              "32                                   Wankhede Stadium        Mumbai Indians   \n",
              "49                             Sawai Mansingh Stadium      Rajasthan Royals   \n",
              "68                              Narendra Modi Stadium        Gujarat Titans   \n",
              "2                              MA Chidambaram Stadium   Chennai Super Kings   \n",
              "27                             Sawai Mansingh Stadium      Rajasthan Royals   \n",
              "60       Himachal Pradesh Cricket Association Stadium          Punjab Kings   \n",
              "1                  Rajiv Gandhi International Stadium   Sunrisers Hyderabad   \n",
              "12  Bharat Ratna Shri Atal Bihari Vajpayee Ekana C...  Lucknow Super Giants   \n",
              "\n",
              "                          team2          toss_winner toss_decision  \\\n",
              "72                          TBD              Unknown           NaN   \n",
              "64         Lucknow Super Giants              Unknown           NaN   \n",
              "32          Sunrisers Hyderabad              Unknown           NaN   \n",
              "49               Mumbai Indians              Unknown           NaN   \n",
              "68          Chennai Super Kings              Unknown           NaN   \n",
              "2                Mumbai Indians  Chennai Super Kings         field   \n",
              "27  Royal Challengers Bengaluru              Unknown           NaN   \n",
              "60               Mumbai Indians              Unknown           NaN   \n",
              "1              Rajasthan Royals     Rajasthan Royals         field   \n",
              "12                 Punjab Kings         Punjab Kings         field   \n",
              "\n",
              "                winner    result  result_margin  target_runs  target_overs  \\\n",
              "72              Unknown      NaN            NaN          NaN           NaN   \n",
              "64              Unknown      NaN            NaN          NaN           NaN   \n",
              "32              Unknown      NaN            NaN          NaN           NaN   \n",
              "49              Unknown      NaN            NaN          NaN           NaN   \n",
              "68              Unknown      NaN            NaN          NaN           NaN   \n",
              "2   Chennai Super Kings  wickets            4.0        156.0          20.0   \n",
              "27              Unknown      NaN            NaN          NaN           NaN   \n",
              "60              Unknown      NaN            NaN          NaN           NaN   \n",
              "1   Sunrisers Hyderabad     runs           44.0        287.0          20.0   \n",
              "12         Punjab Kings  wickets            8.0        172.0          20.0   \n",
              "\n",
              "   super_over  \n",
              "72        NaN  \n",
              "64        NaN  \n",
              "32        NaN  \n",
              "49        NaN  \n",
              "68        NaN  \n",
              "2           N  \n",
              "27        NaN  \n",
              "60        NaN  \n",
              "1           N  \n",
              "12          N  "
            ]
          },
          "execution_count": 465,
          "metadata": {},
          "output_type": "execute_result"
        }
      ],
      "source": [
        "matches_s25.sample(10)"
      ]
    },
    {
      "cell_type": "code",
      "execution_count": 466,
      "metadata": {
        "execution": {
          "iopub.execute_input": "2025-04-07T00:27:45.963262Z",
          "iopub.status.busy": "2025-04-07T00:27:45.962869Z",
          "iopub.status.idle": "2025-04-07T00:27:45.976489Z",
          "shell.execute_reply": "2025-04-07T00:27:45.975137Z",
          "shell.execute_reply.started": "2025-04-07T00:27:45.963229Z"
        },
        "id": "_1uD18N7nI5N",
        "trusted": true
      },
      "outputs": [],
      "source": [
        "cols_to_clean = ['team1', 'team2', 'winner ', 'toss_winner', 'toss_decision', 'Match_Type', 'Venue', 'City']\n",
        "\n",
        "matches_s25[cols_to_clean] = matches_s25[cols_to_clean].apply(lambda x: x.str.strip())\n"
      ]
    },
    {
      "cell_type": "markdown",
      "metadata": {
        "id": "YJTV-YN2nI5O"
      },
      "source": [
        "Inconsistenices between 2025 and other data...\n",
        "There was problem with whitespaces in winner column for new rows added\n",
        "\n",
        "winner unique- array(['Kolkata Knight Riders', 'Chennai Super Kings', 'Delhi Capitals',\n",
        "       'Royal Challengers Bengaluru', 'Rajasthan Royals', 'Punjab Kings',\n",
        "       'Sunrisers Hyderabad', 'Mumbai Indians', 'Rising Pune Supergiants',\n",
        "       'Kochi Tuskers Kerala', 'No result', 'Gujarat Titans',\n",
        "       'Lucknow Super Giants', ' Royal Challengers Bengaluru',\n",
        "       ' Sunrisers Hyderabad', ' Chennai Super Kings', ' Delhi Capitals',\n",
        "       ' Punjab Kings', ' Kolkata Knight Riders', ' Lucknow Super Giants',\n",
        "       ' Gujarat Titans', ' Rajasthan Royals', 'Mumbai'], dtype=object)"
      ]
    },
    {
      "cell_type": "code",
      "execution_count": 467,
      "metadata": {
        "colab": {
          "base_uri": "https://localhost:8080/",
          "height": 417
        },
        "execution": {
          "iopub.execute_input": "2025-04-07T00:27:46.037115Z",
          "iopub.status.busy": "2025-04-07T00:27:46.036743Z",
          "iopub.status.idle": "2025-04-07T00:27:46.057248Z",
          "shell.execute_reply": "2025-04-07T00:27:46.056096Z",
          "shell.execute_reply.started": "2025-04-07T00:27:46.037082Z"
        },
        "id": "H0yUjpdAnI5O",
        "outputId": "8b8171de-2ae8-40e7-8ead-a5fe488b812a",
        "trusted": true
      },
      "outputs": [
        {
          "data": {
            "text/html": [
              "<div>\n",
              "<style scoped>\n",
              "    .dataframe tbody tr th:only-of-type {\n",
              "        vertical-align: middle;\n",
              "    }\n",
              "\n",
              "    .dataframe tbody tr th {\n",
              "        vertical-align: top;\n",
              "    }\n",
              "\n",
              "    .dataframe thead th {\n",
              "        text-align: right;\n",
              "    }\n",
              "</style>\n",
              "<table border=\"1\" class=\"dataframe\">\n",
              "  <thead>\n",
              "    <tr style=\"text-align: right;\">\n",
              "      <th></th>\n",
              "      <th>Season</th>\n",
              "      <th>City</th>\n",
              "      <th>Date</th>\n",
              "      <th>Match_Type</th>\n",
              "      <th>Player_of_match</th>\n",
              "      <th>Venue</th>\n",
              "      <th>team1</th>\n",
              "      <th>team2</th>\n",
              "      <th>toss_winner</th>\n",
              "      <th>toss_decision</th>\n",
              "      <th>winner</th>\n",
              "      <th>result</th>\n",
              "      <th>result_margin</th>\n",
              "      <th>target_runs</th>\n",
              "      <th>target_overs</th>\n",
              "      <th>super_over</th>\n",
              "    </tr>\n",
              "  </thead>\n",
              "  <tbody>\n",
              "    <tr>\n",
              "      <th>0</th>\n",
              "      <td>2025</td>\n",
              "      <td>Kolkata</td>\n",
              "      <td>3/22/2025</td>\n",
              "      <td>League</td>\n",
              "      <td>Krunal Pandya</td>\n",
              "      <td>Eden Gardens</td>\n",
              "      <td>Kolkata Knight Riders</td>\n",
              "      <td>Royal Challengers Bengaluru</td>\n",
              "      <td>Royal Challengers Bengaluru</td>\n",
              "      <td>field</td>\n",
              "      <td>Royal Challengers Bengaluru</td>\n",
              "      <td>wickets</td>\n",
              "      <td>7.0</td>\n",
              "      <td>175.0</td>\n",
              "      <td>20.0</td>\n",
              "      <td>N</td>\n",
              "    </tr>\n",
              "    <tr>\n",
              "      <th>1</th>\n",
              "      <td>2025</td>\n",
              "      <td>Hyderabad</td>\n",
              "      <td>3/23/2025</td>\n",
              "      <td>League</td>\n",
              "      <td>Ishan Kishan</td>\n",
              "      <td>Rajiv Gandhi International Stadium</td>\n",
              "      <td>Sunrisers Hyderabad</td>\n",
              "      <td>Rajasthan Royals</td>\n",
              "      <td>Rajasthan Royals</td>\n",
              "      <td>field</td>\n",
              "      <td>Sunrisers Hyderabad</td>\n",
              "      <td>runs</td>\n",
              "      <td>44.0</td>\n",
              "      <td>287.0</td>\n",
              "      <td>20.0</td>\n",
              "      <td>N</td>\n",
              "    </tr>\n",
              "    <tr>\n",
              "      <th>2</th>\n",
              "      <td>2025</td>\n",
              "      <td>Chennai</td>\n",
              "      <td>3/23/2025</td>\n",
              "      <td>League</td>\n",
              "      <td>Noor Ahmad</td>\n",
              "      <td>MA Chidambaram Stadium</td>\n",
              "      <td>Chennai Super Kings</td>\n",
              "      <td>Mumbai Indians</td>\n",
              "      <td>Chennai Super Kings</td>\n",
              "      <td>field</td>\n",
              "      <td>Chennai Super Kings</td>\n",
              "      <td>wickets</td>\n",
              "      <td>4.0</td>\n",
              "      <td>156.0</td>\n",
              "      <td>20.0</td>\n",
              "      <td>N</td>\n",
              "    </tr>\n",
              "    <tr>\n",
              "      <th>3</th>\n",
              "      <td>2025</td>\n",
              "      <td>Visakhapatnam</td>\n",
              "      <td>3/24/2025</td>\n",
              "      <td>League</td>\n",
              "      <td>Ashutosh Sharma</td>\n",
              "      <td>Dr YS Rajasekhara Reddy ACA-VDCA Cricket Stadium</td>\n",
              "      <td>Delhi Capitals</td>\n",
              "      <td>Lucknow Super Giants</td>\n",
              "      <td>Delhi Capitals</td>\n",
              "      <td>field</td>\n",
              "      <td>Delhi Capitals</td>\n",
              "      <td>wickets</td>\n",
              "      <td>1.0</td>\n",
              "      <td>210.0</td>\n",
              "      <td>20.0</td>\n",
              "      <td>N</td>\n",
              "    </tr>\n",
              "    <tr>\n",
              "      <th>4</th>\n",
              "      <td>2025</td>\n",
              "      <td>Ahmedabad</td>\n",
              "      <td>3/25/2025</td>\n",
              "      <td>League</td>\n",
              "      <td>Shreyas Iyer</td>\n",
              "      <td>Narendra Modi Stadium</td>\n",
              "      <td>Gujarat Titans</td>\n",
              "      <td>Punjab Kings</td>\n",
              "      <td>Gujarat Titans</td>\n",
              "      <td>field</td>\n",
              "      <td>Punjab Kings</td>\n",
              "      <td>runs</td>\n",
              "      <td>11.0</td>\n",
              "      <td>244.0</td>\n",
              "      <td>20.0</td>\n",
              "      <td>N</td>\n",
              "    </tr>\n",
              "  </tbody>\n",
              "</table>\n",
              "</div>"
            ],
            "text/plain": [
              "   Season           City       Date Match_Type  Player_of_match  \\\n",
              "0    2025        Kolkata  3/22/2025     League    Krunal Pandya   \n",
              "1    2025      Hyderabad  3/23/2025     League     Ishan Kishan   \n",
              "2    2025        Chennai  3/23/2025     League       Noor Ahmad   \n",
              "3    2025  Visakhapatnam  3/24/2025     League  Ashutosh Sharma   \n",
              "4    2025      Ahmedabad  3/25/2025     League     Shreyas Iyer   \n",
              "\n",
              "                                              Venue                  team1  \\\n",
              "0                                      Eden Gardens  Kolkata Knight Riders   \n",
              "1                Rajiv Gandhi International Stadium    Sunrisers Hyderabad   \n",
              "2                            MA Chidambaram Stadium    Chennai Super Kings   \n",
              "3  Dr YS Rajasekhara Reddy ACA-VDCA Cricket Stadium         Delhi Capitals   \n",
              "4                             Narendra Modi Stadium         Gujarat Titans   \n",
              "\n",
              "                         team2                  toss_winner toss_decision  \\\n",
              "0  Royal Challengers Bengaluru  Royal Challengers Bengaluru         field   \n",
              "1             Rajasthan Royals             Rajasthan Royals         field   \n",
              "2               Mumbai Indians          Chennai Super Kings         field   \n",
              "3         Lucknow Super Giants               Delhi Capitals         field   \n",
              "4                 Punjab Kings               Gujarat Titans         field   \n",
              "\n",
              "                       winner    result  result_margin  target_runs  \\\n",
              "0  Royal Challengers Bengaluru  wickets            7.0        175.0   \n",
              "1          Sunrisers Hyderabad     runs           44.0        287.0   \n",
              "2          Chennai Super Kings  wickets            4.0        156.0   \n",
              "3               Delhi Capitals  wickets            1.0        210.0   \n",
              "4                 Punjab Kings     runs           11.0        244.0   \n",
              "\n",
              "   target_overs super_over  \n",
              "0          20.0          N  \n",
              "1          20.0          N  \n",
              "2          20.0          N  \n",
              "3          20.0          N  \n",
              "4          20.0          N  "
            ]
          },
          "execution_count": 467,
          "metadata": {},
          "output_type": "execute_result"
        }
      ],
      "source": [
        "##Splitting s25 dataset\n",
        "s25_completed=matches_s25[matches_s25['Player_of_match'].notna()]\n",
        "s25_new=matches_s25[matches_s25['Player_of_match'].isna()]\n",
        "s25_completed.head()"
      ]
    },
    {
      "cell_type": "code",
      "execution_count": 468,
      "metadata": {
        "execution": {
          "iopub.execute_input": "2025-04-07T00:27:46.132753Z",
          "iopub.status.busy": "2025-04-07T00:27:46.13232Z",
          "iopub.status.idle": "2025-04-07T00:27:46.144018Z",
          "shell.execute_reply": "2025-04-07T00:27:46.142733Z",
          "shell.execute_reply.started": "2025-04-07T00:27:46.132724Z"
        },
        "id": "t_BV8OtDnI5O",
        "trusted": true
      },
      "outputs": [],
      "source": [
        "\n",
        "s25_completed.columns=matches.columns\n",
        "\n",
        "\n",
        "s25_completed = s25_completed[matches.columns]  # Align df2 columns with df1\n",
        "\n",
        "\n",
        "# Ensure data types match\n",
        "s25_completed = s25_completed.astype(matches.dtypes)\n",
        "\n",
        "\n",
        "matches_combined = pd.concat([matches, s25_completed], ignore_index=True)\n"
      ]
    },
    {
      "cell_type": "code",
      "execution_count": 469,
      "metadata": {
        "execution": {
          "iopub.execute_input": "2025-04-07T00:27:46.197905Z",
          "iopub.status.busy": "2025-04-07T00:27:46.197518Z",
          "iopub.status.idle": "2025-04-07T00:27:46.202686Z",
          "shell.execute_reply": "2025-04-07T00:27:46.201303Z",
          "shell.execute_reply.started": "2025-04-07T00:27:46.197876Z"
        },
        "id": "KJjYo87RnI5O",
        "trusted": true
      },
      "outputs": [],
      "source": [
        "matches=matches_combined"
      ]
    },
    {
      "cell_type": "code",
      "execution_count": 470,
      "metadata": {
        "colab": {
          "base_uri": "https://localhost:8080/"
        },
        "execution": {
          "iopub.execute_input": "2025-04-07T00:27:46.274637Z",
          "iopub.status.busy": "2025-04-07T00:27:46.274297Z",
          "iopub.status.idle": "2025-04-07T00:27:46.29092Z",
          "shell.execute_reply": "2025-04-07T00:27:46.289122Z",
          "shell.execute_reply.started": "2025-04-07T00:27:46.274611Z"
        },
        "id": "vzHviFRonI5O",
        "outputId": "74bbe456-ac90-4d60-f468-1c29846dba08",
        "trusted": true
      },
      "outputs": [
        {
          "name": "stdout",
          "output_type": "stream",
          "text": [
            "<class 'pandas.core.frame.DataFrame'>\n",
            "RangeIndex: 1133 entries, 0 to 1132\n",
            "Data columns (total 16 columns):\n",
            " #   Column           Non-Null Count  Dtype  \n",
            "---  ------           --------------  -----  \n",
            " 0   season           1133 non-null   object \n",
            " 1   city             1133 non-null   object \n",
            " 2   date             1133 non-null   object \n",
            " 3   match_type       1133 non-null   object \n",
            " 4   player_of_match  1133 non-null   object \n",
            " 5   venue            1133 non-null   object \n",
            " 6   team1            1133 non-null   object \n",
            " 7   team2            1133 non-null   object \n",
            " 8   toss_winner      1133 non-null   object \n",
            " 9   toss_decision    1133 non-null   object \n",
            " 10  winner           1133 non-null   object \n",
            " 11  result           1133 non-null   object \n",
            " 12  result_margin    1133 non-null   float64\n",
            " 13  target_runs      1133 non-null   float64\n",
            " 14  target_overs     1133 non-null   float64\n",
            " 15  super_over       1133 non-null   object \n",
            "dtypes: float64(3), object(13)\n",
            "memory usage: 141.8+ KB\n"
          ]
        }
      ],
      "source": [
        "matches_combined.info()"
      ]
    },
    {
      "cell_type": "markdown",
      "metadata": {
        "id": "hyPD_wF_nI5P"
      },
      "source": [
        "# Test data - New match data to predict\n"
      ]
    },
    {
      "cell_type": "code",
      "execution_count": 471,
      "metadata": {
        "execution": {
          "iopub.execute_input": "2025-04-07T00:28:56.162408Z",
          "iopub.status.busy": "2025-04-07T00:28:56.162075Z",
          "iopub.status.idle": "2025-04-07T00:28:56.169674Z",
          "shell.execute_reply": "2025-04-07T00:28:56.168416Z",
          "shell.execute_reply.started": "2025-04-07T00:28:56.162384Z"
        },
        "id": "kc_qcBrenI5Y",
        "trusted": true
      },
      "outputs": [],
      "source": [
        "s25_new.columns = s25_new.columns.str.strip()\n",
        "s25_new.fillna(0, inplace=True)\n",
        "s25_league=s25_new[s25_new['team1']!='TBD']\n"
      ]
    },
    {
      "cell_type": "code",
      "execution_count": 472,
      "metadata": {
        "execution": {
          "iopub.execute_input": "2025-04-07T00:29:06.293566Z",
          "iopub.status.busy": "2025-04-07T00:29:06.293178Z",
          "iopub.status.idle": "2025-04-07T00:29:06.302917Z",
          "shell.execute_reply": "2025-04-07T00:29:06.301593Z",
          "shell.execute_reply.started": "2025-04-07T00:29:06.293533Z"
        },
        "id": "ehqHM_bbnI5Y",
        "trusted": true
      },
      "outputs": [],
      "source": [
        "\n",
        "s25_league.columns=matches_combined.columns\n",
        "\n",
        "\n",
        "s25_league = s25_league[matches_combined.columns]  # Align df2 columns with df1\n",
        "\n",
        "\n",
        "s25_league = s25_league.astype(matches_combined.dtypes)"
      ]
    },
    {
      "cell_type": "code",
      "execution_count": 473,
      "metadata": {
        "colab": {
          "base_uri": "https://localhost:8080/",
          "height": 382
        },
        "execution": {
          "iopub.execute_input": "2025-04-07T00:29:34.252229Z",
          "iopub.status.busy": "2025-04-07T00:29:34.251825Z",
          "iopub.status.idle": "2025-04-07T00:29:34.271224Z",
          "shell.execute_reply": "2025-04-07T00:29:34.270219Z",
          "shell.execute_reply.started": "2025-04-07T00:29:34.252198Z"
        },
        "id": "v7BNZ1wfnI5Z",
        "outputId": "66a42779-e0c2-4886-a7d6-c61408d591b5",
        "trusted": true
      },
      "outputs": [
        {
          "data": {
            "text/html": [
              "<div>\n",
              "<style scoped>\n",
              "    .dataframe tbody tr th:only-of-type {\n",
              "        vertical-align: middle;\n",
              "    }\n",
              "\n",
              "    .dataframe tbody tr th {\n",
              "        vertical-align: top;\n",
              "    }\n",
              "\n",
              "    .dataframe thead th {\n",
              "        text-align: right;\n",
              "    }\n",
              "</style>\n",
              "<table border=\"1\" class=\"dataframe\">\n",
              "  <thead>\n",
              "    <tr style=\"text-align: right;\">\n",
              "      <th></th>\n",
              "      <th>season</th>\n",
              "      <th>city</th>\n",
              "      <th>date</th>\n",
              "      <th>match_type</th>\n",
              "      <th>player_of_match</th>\n",
              "      <th>venue</th>\n",
              "      <th>team1</th>\n",
              "      <th>team2</th>\n",
              "      <th>toss_winner</th>\n",
              "      <th>toss_decision</th>\n",
              "      <th>winner</th>\n",
              "      <th>result</th>\n",
              "      <th>result_margin</th>\n",
              "      <th>target_runs</th>\n",
              "      <th>target_overs</th>\n",
              "      <th>super_over</th>\n",
              "    </tr>\n",
              "  </thead>\n",
              "  <tbody>\n",
              "    <tr>\n",
              "      <th>19</th>\n",
              "      <td>2025</td>\n",
              "      <td>Mumbai</td>\n",
              "      <td>4/7/2025</td>\n",
              "      <td>League</td>\n",
              "      <td>0</td>\n",
              "      <td>Wankhede Stadium</td>\n",
              "      <td>Mumbai Indians</td>\n",
              "      <td>Royal Challengers Bengaluru</td>\n",
              "      <td>Unknown</td>\n",
              "      <td>0</td>\n",
              "      <td>Unknown</td>\n",
              "      <td>0</td>\n",
              "      <td>0.0</td>\n",
              "      <td>0.0</td>\n",
              "      <td>0.0</td>\n",
              "      <td>0</td>\n",
              "    </tr>\n",
              "    <tr>\n",
              "      <th>20</th>\n",
              "      <td>2025</td>\n",
              "      <td>Kolkata</td>\n",
              "      <td>4/8/2025</td>\n",
              "      <td>League</td>\n",
              "      <td>0</td>\n",
              "      <td>Eden Gardens</td>\n",
              "      <td>Kolkata Knight Riders</td>\n",
              "      <td>Lucknow Super Giants</td>\n",
              "      <td>Unknown</td>\n",
              "      <td>0</td>\n",
              "      <td>Unknown</td>\n",
              "      <td>0</td>\n",
              "      <td>0.0</td>\n",
              "      <td>0.0</td>\n",
              "      <td>0.0</td>\n",
              "      <td>0</td>\n",
              "    </tr>\n",
              "    <tr>\n",
              "      <th>21</th>\n",
              "      <td>2025</td>\n",
              "      <td>Chandigarh</td>\n",
              "      <td>4/8/2025</td>\n",
              "      <td>League</td>\n",
              "      <td>0</td>\n",
              "      <td>New PCA Stadium</td>\n",
              "      <td>Punjab Kings</td>\n",
              "      <td>Chennai Super Kings</td>\n",
              "      <td>Unknown</td>\n",
              "      <td>0</td>\n",
              "      <td>Unknown</td>\n",
              "      <td>0</td>\n",
              "      <td>0.0</td>\n",
              "      <td>0.0</td>\n",
              "      <td>0.0</td>\n",
              "      <td>0</td>\n",
              "    </tr>\n",
              "    <tr>\n",
              "      <th>22</th>\n",
              "      <td>2025</td>\n",
              "      <td>Ahmedabad</td>\n",
              "      <td>4/9/2025</td>\n",
              "      <td>League</td>\n",
              "      <td>0</td>\n",
              "      <td>Narendra Modi Stadium</td>\n",
              "      <td>Gujarat Titans</td>\n",
              "      <td>Rajasthan Royals</td>\n",
              "      <td>Unknown</td>\n",
              "      <td>0</td>\n",
              "      <td>Unknown</td>\n",
              "      <td>0</td>\n",
              "      <td>0.0</td>\n",
              "      <td>0.0</td>\n",
              "      <td>0.0</td>\n",
              "      <td>0</td>\n",
              "    </tr>\n",
              "    <tr>\n",
              "      <th>23</th>\n",
              "      <td>2025</td>\n",
              "      <td>Bengaluru</td>\n",
              "      <td>4/10/2025</td>\n",
              "      <td>League</td>\n",
              "      <td>0</td>\n",
              "      <td>M Chinnaswamy Stadium</td>\n",
              "      <td>Royal Challengers Bengaluru</td>\n",
              "      <td>Delhi Capitals</td>\n",
              "      <td>Unknown</td>\n",
              "      <td>0</td>\n",
              "      <td>Unknown</td>\n",
              "      <td>0</td>\n",
              "      <td>0.0</td>\n",
              "      <td>0.0</td>\n",
              "      <td>0.0</td>\n",
              "      <td>0</td>\n",
              "    </tr>\n",
              "  </tbody>\n",
              "</table>\n",
              "</div>"
            ],
            "text/plain": [
              "   season        city       date match_type player_of_match  \\\n",
              "19   2025      Mumbai   4/7/2025     League               0   \n",
              "20   2025     Kolkata   4/8/2025     League               0   \n",
              "21   2025  Chandigarh   4/8/2025     League               0   \n",
              "22   2025   Ahmedabad   4/9/2025     League               0   \n",
              "23   2025   Bengaluru  4/10/2025     League               0   \n",
              "\n",
              "                    venue                        team1  \\\n",
              "19       Wankhede Stadium               Mumbai Indians   \n",
              "20           Eden Gardens        Kolkata Knight Riders   \n",
              "21        New PCA Stadium                 Punjab Kings   \n",
              "22  Narendra Modi Stadium               Gujarat Titans   \n",
              "23  M Chinnaswamy Stadium  Royal Challengers Bengaluru   \n",
              "\n",
              "                          team2 toss_winner toss_decision   winner result  \\\n",
              "19  Royal Challengers Bengaluru     Unknown             0  Unknown      0   \n",
              "20         Lucknow Super Giants     Unknown             0  Unknown      0   \n",
              "21          Chennai Super Kings     Unknown             0  Unknown      0   \n",
              "22             Rajasthan Royals     Unknown             0  Unknown      0   \n",
              "23               Delhi Capitals     Unknown             0  Unknown      0   \n",
              "\n",
              "    result_margin  target_runs  target_overs super_over  \n",
              "19            0.0          0.0           0.0          0  \n",
              "20            0.0          0.0           0.0          0  \n",
              "21            0.0          0.0           0.0          0  \n",
              "22            0.0          0.0           0.0          0  \n",
              "23            0.0          0.0           0.0          0  "
            ]
          },
          "execution_count": 473,
          "metadata": {},
          "output_type": "execute_result"
        }
      ],
      "source": [
        "s25_league.head()"
      ]
    },
    {
      "cell_type": "markdown",
      "metadata": {
        "id": "SJcmt8SEnI5Z"
      },
      "source": [
        "\n",
        "# Feature Engineering"
      ]
    },
    {
      "cell_type": "code",
      "execution_count": 475,
      "metadata": {
        "execution": {
          "iopub.execute_input": "2025-04-07T00:29:39.568548Z",
          "iopub.status.busy": "2025-04-07T00:29:39.568144Z",
          "iopub.status.idle": "2025-04-07T00:29:39.575266Z",
          "shell.execute_reply": "2025-04-07T00:29:39.574107Z",
          "shell.execute_reply.started": "2025-04-07T00:29:39.568503Z"
        },
        "id": "7APhLFqinI5Z",
        "trusted": true
      },
      "outputs": [],
      "source": [
        "def add_team_ranks(matches_df, team_stats_df):\n",
        "    for col in ['team1', 'team2', 'toss_winner', 'winner']:\n",
        "        if col in matches_df.columns:\n",
        "            matches_df[col] = matches_df[col].astype(str).str.strip().str.lower()\n",
        "\n",
        "    team_stats_df['team_name'] = team_stats_df['team_name'].astype(str).str.strip().str.lower()\n",
        "\n",
        "    matches_df = matches_df.merge(team_stats_df[['team_name', 'rank']],\n",
        "                                  left_on='team1', right_on='team_name', how='left')\n",
        "    matches_df = matches_df.rename(columns={'rank': 'team1_rank'})\n",
        "\n",
        "    matches_df = matches_df.merge(team_stats_df[['team_name', 'rank']],\n",
        "                                  left_on='team2', right_on='team_name', how='left')\n",
        "    matches_df = matches_df.rename(columns={'rank': 'team2_rank'})\n",
        "\n",
        "    matches_df = matches_df.drop(columns=['team_name_x', 'team_name_y'], errors='ignore')\n",
        "\n",
        "    return matches_df"
      ]
    },
    {
      "cell_type": "code",
      "execution_count": 476,
      "metadata": {
        "execution": {
          "iopub.execute_input": "2025-04-07T00:29:41.872022Z",
          "iopub.status.busy": "2025-04-07T00:29:41.871606Z",
          "iopub.status.idle": "2025-04-07T00:29:41.89856Z",
          "shell.execute_reply": "2025-04-07T00:29:41.8974Z",
          "shell.execute_reply.started": "2025-04-07T00:29:41.871957Z"
        },
        "id": "xkdmNYX6nI5Z",
        "trusted": true
      },
      "outputs": [],
      "source": [
        "matches = add_team_ranks(matches, team_stats)\n",
        "matches = matches.astype({col: 'float64' for col in matches.select_dtypes(include=['int']).columns})\n"
      ]
    },
    {
      "cell_type": "code",
      "execution_count": 477,
      "metadata": {
        "colab": {
          "base_uri": "https://localhost:8080/",
          "height": 417
        },
        "execution": {
          "iopub.execute_input": "2025-04-07T00:29:44.159926Z",
          "iopub.status.busy": "2025-04-07T00:29:44.159593Z",
          "iopub.status.idle": "2025-04-07T00:29:44.180492Z",
          "shell.execute_reply": "2025-04-07T00:29:44.179338Z",
          "shell.execute_reply.started": "2025-04-07T00:29:44.159902Z"
        },
        "id": "2bdOO5ZenI5Z",
        "outputId": "03c76127-6c45-4405-93ed-46b986c295b1",
        "trusted": true
      },
      "outputs": [
        {
          "data": {
            "text/html": [
              "<div>\n",
              "<style scoped>\n",
              "    .dataframe tbody tr th:only-of-type {\n",
              "        vertical-align: middle;\n",
              "    }\n",
              "\n",
              "    .dataframe tbody tr th {\n",
              "        vertical-align: top;\n",
              "    }\n",
              "\n",
              "    .dataframe thead th {\n",
              "        text-align: right;\n",
              "    }\n",
              "</style>\n",
              "<table border=\"1\" class=\"dataframe\">\n",
              "  <thead>\n",
              "    <tr style=\"text-align: right;\">\n",
              "      <th></th>\n",
              "      <th>season</th>\n",
              "      <th>city</th>\n",
              "      <th>date</th>\n",
              "      <th>match_type</th>\n",
              "      <th>player_of_match</th>\n",
              "      <th>venue</th>\n",
              "      <th>team1</th>\n",
              "      <th>team2</th>\n",
              "      <th>toss_winner</th>\n",
              "      <th>toss_decision</th>\n",
              "      <th>winner</th>\n",
              "      <th>result</th>\n",
              "      <th>result_margin</th>\n",
              "      <th>target_runs</th>\n",
              "      <th>target_overs</th>\n",
              "      <th>super_over</th>\n",
              "      <th>team1_rank</th>\n",
              "      <th>team2_rank</th>\n",
              "    </tr>\n",
              "  </thead>\n",
              "  <tbody>\n",
              "    <tr>\n",
              "      <th>1128</th>\n",
              "      <td>2025</td>\n",
              "      <td>Kolkata</td>\n",
              "      <td>4/3/2025</td>\n",
              "      <td>League</td>\n",
              "      <td>Vaibhav Arora</td>\n",
              "      <td>Eden Gardens</td>\n",
              "      <td>kolkata knight riders</td>\n",
              "      <td>sunrisers hyderabad</td>\n",
              "      <td>sunrisers hyderabad</td>\n",
              "      <td>field</td>\n",
              "      <td>kolkata knight riders</td>\n",
              "      <td>runs</td>\n",
              "      <td>80.0</td>\n",
              "      <td>201.0</td>\n",
              "      <td>20.0</td>\n",
              "      <td>N</td>\n",
              "      <td>5.0</td>\n",
              "      <td>10.0</td>\n",
              "    </tr>\n",
              "    <tr>\n",
              "      <th>1129</th>\n",
              "      <td>2025</td>\n",
              "      <td>Lucknow</td>\n",
              "      <td>4/4/2025</td>\n",
              "      <td>League</td>\n",
              "      <td>Digvesh Singh Rathi</td>\n",
              "      <td>Bharat Ratna Shri Atal Bihari Vajpayee Ekana C...</td>\n",
              "      <td>lucknow super giants</td>\n",
              "      <td>mumbai indians</td>\n",
              "      <td>mumbai indians</td>\n",
              "      <td>field</td>\n",
              "      <td>lucknow super giants</td>\n",
              "      <td>runs</td>\n",
              "      <td>12.0</td>\n",
              "      <td>204.0</td>\n",
              "      <td>20.0</td>\n",
              "      <td>N</td>\n",
              "      <td>4.0</td>\n",
              "      <td>2.0</td>\n",
              "    </tr>\n",
              "    <tr>\n",
              "      <th>1130</th>\n",
              "      <td>2025</td>\n",
              "      <td>Chennai</td>\n",
              "      <td>4/5/2025</td>\n",
              "      <td>League</td>\n",
              "      <td>KL Rahul</td>\n",
              "      <td>MA Chidambaram Stadium</td>\n",
              "      <td>chennai super kings</td>\n",
              "      <td>delhi capitals</td>\n",
              "      <td>delhi capitals</td>\n",
              "      <td>field</td>\n",
              "      <td>delhi capitals</td>\n",
              "      <td>runs</td>\n",
              "      <td>25.0</td>\n",
              "      <td>184.0</td>\n",
              "      <td>20.0</td>\n",
              "      <td>N</td>\n",
              "      <td>1.0</td>\n",
              "      <td>8.0</td>\n",
              "    </tr>\n",
              "    <tr>\n",
              "      <th>1131</th>\n",
              "      <td>2025</td>\n",
              "      <td>Chandigarh</td>\n",
              "      <td>4/5/2025</td>\n",
              "      <td>League</td>\n",
              "      <td>Jofra Archer</td>\n",
              "      <td>New PCA Stadium</td>\n",
              "      <td>punjab kings</td>\n",
              "      <td>rajasthan royals</td>\n",
              "      <td>punjab kings</td>\n",
              "      <td>field</td>\n",
              "      <td>rajasthan royals</td>\n",
              "      <td>runs</td>\n",
              "      <td>50.0</td>\n",
              "      <td>206.0</td>\n",
              "      <td>20.0</td>\n",
              "      <td>N</td>\n",
              "      <td>9.0</td>\n",
              "      <td>6.0</td>\n",
              "    </tr>\n",
              "    <tr>\n",
              "      <th>1132</th>\n",
              "      <td>2025</td>\n",
              "      <td>Hyderabad</td>\n",
              "      <td>4/6/2025</td>\n",
              "      <td>League</td>\n",
              "      <td>Mohammed Siraj</td>\n",
              "      <td>Rajiv Gandhi International Stadium</td>\n",
              "      <td>sunrisers hyderabad</td>\n",
              "      <td>gujarat titans</td>\n",
              "      <td>gujarat titans</td>\n",
              "      <td>field</td>\n",
              "      <td>gujarat titans</td>\n",
              "      <td>wickets</td>\n",
              "      <td>7.0</td>\n",
              "      <td>153.0</td>\n",
              "      <td>20.0</td>\n",
              "      <td>N</td>\n",
              "      <td>10.0</td>\n",
              "      <td>3.0</td>\n",
              "    </tr>\n",
              "  </tbody>\n",
              "</table>\n",
              "</div>"
            ],
            "text/plain": [
              "     season        city      date match_type      player_of_match  \\\n",
              "1128   2025     Kolkata  4/3/2025     League        Vaibhav Arora   \n",
              "1129   2025     Lucknow  4/4/2025     League  Digvesh Singh Rathi   \n",
              "1130   2025     Chennai  4/5/2025     League             KL Rahul   \n",
              "1131   2025  Chandigarh  4/5/2025     League         Jofra Archer   \n",
              "1132   2025   Hyderabad  4/6/2025     League       Mohammed Siraj   \n",
              "\n",
              "                                                  venue  \\\n",
              "1128                                       Eden Gardens   \n",
              "1129  Bharat Ratna Shri Atal Bihari Vajpayee Ekana C...   \n",
              "1130                             MA Chidambaram Stadium   \n",
              "1131                                    New PCA Stadium   \n",
              "1132                 Rajiv Gandhi International Stadium   \n",
              "\n",
              "                      team1                team2          toss_winner  \\\n",
              "1128  kolkata knight riders  sunrisers hyderabad  sunrisers hyderabad   \n",
              "1129   lucknow super giants       mumbai indians       mumbai indians   \n",
              "1130    chennai super kings       delhi capitals       delhi capitals   \n",
              "1131           punjab kings     rajasthan royals         punjab kings   \n",
              "1132    sunrisers hyderabad       gujarat titans       gujarat titans   \n",
              "\n",
              "     toss_decision                 winner   result  result_margin  \\\n",
              "1128         field  kolkata knight riders     runs           80.0   \n",
              "1129         field   lucknow super giants     runs           12.0   \n",
              "1130         field         delhi capitals     runs           25.0   \n",
              "1131         field       rajasthan royals     runs           50.0   \n",
              "1132         field         gujarat titans  wickets            7.0   \n",
              "\n",
              "      target_runs  target_overs super_over  team1_rank  team2_rank  \n",
              "1128        201.0          20.0          N         5.0        10.0  \n",
              "1129        204.0          20.0          N         4.0         2.0  \n",
              "1130        184.0          20.0          N         1.0         8.0  \n",
              "1131        206.0          20.0          N         9.0         6.0  \n",
              "1132        153.0          20.0          N        10.0         3.0  "
            ]
          },
          "execution_count": 477,
          "metadata": {},
          "output_type": "execute_result"
        }
      ],
      "source": [
        "matches.tail()"
      ]
    },
    {
      "cell_type": "code",
      "execution_count": 478,
      "metadata": {
        "execution": {
          "iopub.execute_input": "2025-04-07T00:30:34.906322Z",
          "iopub.status.busy": "2025-04-07T00:30:34.905912Z",
          "iopub.status.idle": "2025-04-07T00:30:34.925894Z",
          "shell.execute_reply": "2025-04-07T00:30:34.924425Z",
          "shell.execute_reply.started": "2025-04-07T00:30:34.906288Z"
        },
        "id": "N6a2de25nI5Z",
        "trusted": true
      },
      "outputs": [],
      "source": [
        "s25_league = add_team_ranks(s25_league, team_stats)"
      ]
    },
    {
      "cell_type": "markdown",
      "metadata": {
        "id": "AeS-Z6AqnI5a"
      },
      "source": [
        "# Train- test Split\n"
      ]
    },
    {
      "cell_type": "code",
      "execution_count": 479,
      "metadata": {},
      "outputs": [],
      "source": [
        "import pandas as pd\n",
        "import numpy as np\n",
        "from sklearn.tree import DecisionTreeClassifier\n",
        "from sklearn.ensemble import RandomForestClassifier, GradientBoostingClassifier\n",
        "from sklearn.metrics import accuracy_score, confusion_matrix, classification_report\n",
        "from sklearn.model_selection import train_test_split, RandomizedSearchCV\n",
        "from sklearn.preprocessing import LabelEncoder\n",
        "import xgboost as xgb\n",
        "from scipy.stats import entropy, randint\n",
        "import matplotlib.pyplot as plt\n",
        "import seaborn as sns"
      ]
    },
    {
      "cell_type": "code",
      "execution_count": 480,
      "metadata": {},
      "outputs": [],
      "source": [
        "import pandas as pd\n",
        "import numpy as np\n",
        "from sklearn.preprocessing import LabelEncoder\n",
        "\n",
        "def safe_label_transform(series, encoder):\n",
        "    series = series.astype(str).str.strip().str.lower()\n",
        "    series = series.apply(lambda x: x if x in encoder.classes_ else 'unknown')\n",
        "    if 'unknown' not in encoder.classes_:\n",
        "        encoder.classes_ = np.append(encoder.classes_, 'unknown')\n",
        "    return encoder.transform(series)\n",
        "\n",
        "def encode_match_data(train_df, test_df, target_col='winner'):\n",
        "    team_cols = ['team1', 'team2', 'toss_winner']\n",
        "\n",
        "    # Clean team-related columns and target\n",
        "    for col in team_cols + [target_col]:\n",
        "        train_df[col] = train_df[col].astype(str).str.strip().str.lower()\n",
        "        test_df[col] = test_df[col].astype(str).str.strip().str.lower()\n",
        "\n",
        "    # Fit LabelEncoder on all teams and target from training data\n",
        "    all_teams = pd.concat([train_df[col] for col in team_cols] + [train_df[target_col]], axis=0)\n",
        "    team_encoder = LabelEncoder()\n",
        "    team_encoder.fit(all_teams)\n",
        "\n",
        "    # Transform team-related columns\n",
        "    for col in team_cols:\n",
        "        train_df[col] = safe_label_transform(train_df[col], team_encoder)\n",
        "        test_df[col] = safe_label_transform(test_df[col], team_encoder)\n",
        "\n",
        "    # Transform target\n",
        "    y_train = safe_label_transform(train_df[target_col], team_encoder)\n",
        "    y_test = safe_label_transform(test_df[target_col], team_encoder) if target_col in test_df.columns else None\n",
        "\n",
        "    # Encode other categorical features (fit on train only)\n",
        "    label_encoders = {}\n",
        "    other_cols = train_df.select_dtypes(include='object').columns.difference(team_cols + [target_col])\n",
        "\n",
        "    for col in other_cols:\n",
        "        le = LabelEncoder()\n",
        "        le.fit(train_df[col].astype(str))\n",
        "        train_df[col] = safe_label_transform(train_df[col], le)\n",
        "        test_df[col] = safe_label_transform(test_df[col], le)\n",
        "        label_encoders[col] = le\n",
        "\n",
        "    # Drop target from features\n",
        "    X_train = train_df.drop(columns=[target_col])\n",
        "    X_test = test_df.drop(columns=[target_col], errors='ignore')\n",
        "\n",
        "    return X_train, y_train, X_test, y_test, team_encoder, label_encoders\n"
      ]
    },
    {
      "cell_type": "code",
      "execution_count": 481,
      "metadata": {
        "execution": {
          "iopub.execute_input": "2025-04-07T00:35:27.891507Z",
          "iopub.status.busy": "2025-04-07T00:35:27.891165Z",
          "iopub.status.idle": "2025-04-07T00:35:28.097709Z",
          "shell.execute_reply": "2025-04-07T00:35:28.096681Z",
          "shell.execute_reply.started": "2025-04-07T00:35:27.891479Z"
        },
        "id": "ScG8hihQnI5a",
        "trusted": true
      },
      "outputs": [],
      "source": [
        "X_train, y_train, X_test, y_test, team_encoder, label_encoders = encode_match_data(matches, s25_league)"
      ]
    },
    {
      "cell_type": "code",
      "execution_count": 482,
      "metadata": {
        "id": "1ZHMX1r7nI5a",
        "trusted": true
      },
      "outputs": [],
      "source": [
        "def encode_new_data(new_df, team_encoder, label_encoders, team_cols=['team1', 'team2', 'toss_winner']):\n",
        "    new_df = new_df.copy()\n",
        "\n",
        "    # Clean and transform team-related columns using team_encoder\n",
        "    for col in team_cols:\n",
        "        new_df[col] = new_df[col].astype(str).str.strip().str.lower()\n",
        "        new_df[col] = new_df[col].apply(lambda x: x if x in team_encoder.classes_ else 'unknown')\n",
        "        if 'unknown' not in team_encoder.classes_:\n",
        "            team_encoder.classes_ = np.append(team_encoder.classes_, 'unknown')\n",
        "        new_df[col] = team_encoder.transform(new_df[col])\n",
        "\n",
        "    # Encode other categorical columns using their corresponding label_encoders\n",
        "    if label_encoders is not None: \n",
        "        for col, le in label_encoders.items():\n",
        "            if col in new_df.columns:\n",
        "                new_df[col] = new_df[col].astype(str).str.strip().str.lower()\n",
        "                new_df[col] = new_df[col].apply(lambda x: x if x in le.classes_ else 'unknown')\n",
        "                if 'unknown' not in le.classes_:\n",
        "                    le.classes_ = np.append(le.classes_, 'unknown')\n",
        "                new_df[col] = le.transform(new_df[col])\n",
        "\n",
        "    return new_df\n"
      ]
    },
    {
      "cell_type": "code",
      "execution_count": 483,
      "metadata": {
        "colab": {
          "base_uri": "https://localhost:8080/",
          "height": 277
        },
        "id": "1i99Rni1nI5a",
        "outputId": "3c0ee3c2-f3fe-4934-fea0-767f3ccc0a45",
        "trusted": true
      },
      "outputs": [],
      "source": [
        "s25_knockout_q1 = pd.read_csv('IPL_2025_SEASON_SCHEDULE.csv')\n",
        "s25_knockout_q1_encoded = encode_new_data(s25_knockout_q1, team_encoder, label_encoders)"
      ]
    },
    {
      "cell_type": "code",
      "execution_count": 484,
      "metadata": {
        "colab": {
          "base_uri": "https://localhost:8080/",
          "height": 222
        },
        "id": "ftWhH-ODnI5a",
        "outputId": "6164d523-162d-4778-bfdd-c863b9387026",
        "trusted": true
      },
      "outputs": [],
      "source": [
        "import pandas as pd\n",
        "from sklearn.model_selection import train_test_split\n",
        "\n",
        "train_df, test_df = train_test_split(matches, test_size=0.2, random_state=42)\n",
        "\n",
        "X_train, y_train, X_test, y_test, team_encoder, label_encoders = encode_match_data(train_df, test_df)"
      ]
    },
    {
      "cell_type": "code",
      "execution_count": 485,
      "metadata": {
        "colab": {
          "base_uri": "https://localhost:8080/"
        },
        "id": "DBaDxrBknI5b",
        "outputId": "b1f9726e-33ad-4af1-e9bd-55dacf3a4499",
        "trusted": true
      },
      "outputs": [
        {
          "name": "stdout",
          "output_type": "stream",
          "text": [
            "['0' '1' '10' '11' '12' '13' '2' '3' '4' '5' '7' '9' 'chennai super kings'\n",
            " 'delhi capitals' 'gujarat titans' 'kochi tuskers kerala'\n",
            " 'kolkata knight riders' 'lucknow super giants' 'mumbai' 'mumbai indians'\n",
            " 'no result' 'punjab kings' 'rajasthan royals' 'rising pune supergiants'\n",
            " 'royal challengers bengaluru' 'sunrisers hyderabad' 'unknown']\n"
          ]
        }
      ],
      "source": [
        "print(team_encoder.classes_)"
      ]
    },
    {
      "cell_type": "code",
      "execution_count": null,
      "metadata": {
        "colab": {
          "base_uri": "https://localhost:8080/",
          "height": 222
        },
        "id": "aecntZxTnI5b",
        "outputId": "5e9c58a8-a435-4e01-8c60-68801560ceaa",
        "trusted": true
      },
      "outputs": [
        {
          "name": "stdout",
          "output_type": "stream",
          "text": [
            "Accuracy: 0.6035242290748899\n",
            "\n",
            "Confusion Matrix:\n",
            " [[23  0  0  0  4  0  0  2  0  1  0  0  1  1]\n",
            " [ 0 14  0  0  0  0  0  0  0  0  3  1  2  1]\n",
            " [ 0  0  7  0  1  1  0  2  0  0  0  0  0  2]\n",
            " [ 0  0  0  0  2  0  0  0  0  0  0  0  0  0]\n",
            " [ 0  0  1  0 17  0  0  1  0  3  1  1  1  0]\n",
            " [ 0  0  0  0  0  4  1  0  0  0  0  0  0  0]\n",
            " [ 0  0  0  0  0  0  0  0  0  0  0  0  0  0]\n",
            " [ 1  1  0  0  1  0  0 12  0  2  1  0  1  2]\n",
            " [ 0  0  0  0  0  0  0  0  0  0  0  0  0  0]\n",
            " [ 0  0  0  0  1  0  0  0  0 16  1  0  2  3]\n",
            " [ 2  2  1  0  2  0  0  1  1  3  9  0  2  1]\n",
            " [ 0  0  0  0  0  0  0  0  0  0  0  0  3  0]\n",
            " [ 1  1  0  0  1  1  0  5  0  0  1  3 20  3]\n",
            " [ 2  1  0  0  0  0  0  1  0  2  1  0  0 15]]\n",
            "\n",
            "Classification Report:\n",
            "               precision    recall  f1-score   support\n",
            "\n",
            "          12       0.79      0.72      0.75        32\n",
            "          13       0.74      0.67      0.70        21\n",
            "          14       0.78      0.54      0.64        13\n",
            "          15       0.00      0.00      0.00         2\n",
            "          16       0.59      0.68      0.63        25\n",
            "          17       0.67      0.80      0.73         5\n",
            "          18       0.00      0.00      0.00         0\n",
            "          19       0.50      0.57      0.53        21\n",
            "          20       0.00      0.00      0.00         0\n",
            "          21       0.59      0.70      0.64        23\n",
            "          22       0.53      0.38      0.44        24\n",
            "          23       0.00      0.00      0.00         3\n",
            "          24       0.62      0.56      0.59        36\n",
            "          25       0.54      0.68      0.60        22\n",
            "\n",
            "    accuracy                           0.60       227\n",
            "   macro avg       0.45      0.45      0.45       227\n",
            "weighted avg       0.62      0.60      0.60       227\n",
            "\n"
          ]
        }
      ],
      "source": [
        "classifier = DecisionTreeClassifier(random_state=59)\n",
        "classifier.fit(X_train, y_train)\n",
        "\n",
        "y_pred = classifier.predict(X_test)\n",
        "\n",
        "print(\"Accuracy:\", accuracy_score(y_test, y_pred))\n",
        "print(\"\\nConfusion Matrix:\\n\", confusion_matrix(y_test, y_pred))\n",
        "print(\"\\nClassification Report:\\n\", classification_report(y_test, y_pred))"
      ]
    },
    {
      "cell_type": "code",
      "execution_count": null,
      "metadata": {
        "colab": {
          "base_uri": "https://localhost:8080/",
          "height": 222
        },
        "id": "sPtgwL3XnI5b",
        "outputId": "e4378934-a0b6-430f-bc6c-3f14d468ee8e",
        "trusted": true
      },
      "outputs": [
        {
          "name": "stdout",
          "output_type": "stream",
          "text": [
            "RF Boosting Accuracy -Train: 1.0\n",
            "Random Forest Accuracy: 0.7048458149779736\n",
            "\n",
            "Confusion Matrix:\n",
            " [[30  0  0  0  0  0  0  1  1  0  0  0  0]\n",
            " [ 0 14  1  0  0  0  0  1  2  1  1  0  1]\n",
            " [ 0  1 10  0  0  0  0  2  0  0  0  0  0]\n",
            " [ 1  0  0  0  1  0  0  0  0  0  0  0  0]\n",
            " [ 0  2  0  0 15  0  0  2  3  0  1  0  2]\n",
            " [ 0  0  0  0  0  4  1  0  0  0  0  0  0]\n",
            " [ 0  0  0  0  0  0  0  0  0  0  0  0  0]\n",
            " [ 1  1  0  0  0  0  0 19  0  0  0  0  0]\n",
            " [ 0  1  0  0  0  0  0  2 15  1  0  1  3]\n",
            " [ 3  0  0  0  1  0  0  3  0 14  0  3  0]\n",
            " [ 0  2  0  0  0  0  0  0  0  0  1  0  0]\n",
            " [ 1  2  1  0  2  0  0  5  0  0  0 23  2]\n",
            " [ 2  0  0  0  0  0  0  2  2  1  0  0 15]]\n",
            "\n",
            "Classification Report:\n",
            "               precision    recall  f1-score   support\n",
            "\n",
            "          12       0.79      0.94      0.86        32\n",
            "          13       0.61      0.67      0.64        21\n",
            "          14       0.83      0.77      0.80        13\n",
            "          15       0.00      0.00      0.00         2\n",
            "          16       0.79      0.60      0.68        25\n",
            "          17       1.00      0.80      0.89         5\n",
            "          18       0.00      0.00      0.00         0\n",
            "          19       0.51      0.90      0.66        21\n",
            "          21       0.65      0.65      0.65        23\n",
            "          22       0.82      0.58      0.68        24\n",
            "          23       0.33      0.33      0.33         3\n",
            "          24       0.85      0.64      0.73        36\n",
            "          25       0.65      0.68      0.67        22\n",
            "\n",
            "    accuracy                           0.70       227\n",
            "   macro avg       0.60      0.58      0.58       227\n",
            "weighted avg       0.73      0.70      0.70       227\n",
            "\n"
          ]
        }
      ],
      "source": [
        "from sklearn.ensemble import RandomForestClassifier\n",
        "\n",
        "rf_classifier = RandomForestClassifier(random_state=44)\n",
        "rf_classifier.fit(X_train, y_train)\n",
        "y_train_pred = rf_classifier.predict(X_train)\n",
        "print(\"RF Boosting Accuracy -Train:\", accuracy_score(y_train, y_train_pred))\n",
        "\n",
        "y_pred_rf = rf_classifier.predict(X_test)\n",
        "print(\"Random Forest Accuracy:\", accuracy_score(y_test, y_pred_rf))\n",
        "print(\"\\nConfusion Matrix:\\n\", confusion_matrix(y_test, y_pred_rf))\n",
        "print(\"\\nClassification Report:\\n\", classification_report(y_test, y_pred_rf))\n"
      ]
    },
    {
      "cell_type": "code",
      "execution_count": 488,
      "metadata": {
        "colab": {
          "base_uri": "https://localhost:8080/",
          "height": 148
        },
        "id": "4eyGL9xXnI5b",
        "outputId": "a818363d-33d0-49ff-9375-dc6b5e8c618b",
        "trusted": true
      },
      "outputs": [
        {
          "data": {
            "text/plain": [
              "array([24, 21, 13, 21, 12, 12, 14, 21, 13, 24, 21, 13, 21, 16, 24, 17, 25,\n",
              "       12, 14, 22, 21, 19, 14, 12, 13, 19, 22, 21, 13, 24, 12, 19, 19, 16,\n",
              "       22, 12, 24, 25, 21, 23, 19, 12, 21, 13, 16, 16, 22, 21, 25, 12, 12,\n",
              "       12, 12, 12, 19, 22, 14, 22, 13, 14, 13, 19, 19, 24, 22, 16, 19, 13,\n",
              "       25, 24, 13, 25, 19, 19, 19, 13, 12, 22, 13, 19, 25, 25, 24, 18, 16,\n",
              "       14, 22, 21, 12, 19, 16, 22, 25, 13, 24, 25, 12, 12, 16, 24, 25, 22,\n",
              "       24, 12, 12, 24, 24, 19, 24, 12, 17, 19, 12, 25, 22, 25, 19, 24, 25,\n",
              "       13, 24, 13, 12, 22, 21, 19, 12, 16, 22, 19, 21, 24, 24, 12, 24, 19,\n",
              "       24, 21, 24, 25, 16, 25, 19, 13, 13, 14, 12, 24, 16, 12, 13, 19, 16,\n",
              "       16, 14, 19, 21, 12, 23, 17, 13, 19, 25, 12, 12, 24, 14, 25, 16, 14,\n",
              "       17, 19, 21, 19, 19, 12, 16, 25, 21, 12, 22, 12, 13, 22, 21, 19, 21,\n",
              "       21, 19, 21, 25, 19, 19, 19, 12, 19, 13, 13, 25, 14, 19, 12, 16, 12,\n",
              "       21, 12, 19, 24, 19, 12, 23, 12, 25, 25, 12, 16, 22, 16, 24, 24, 14,\n",
              "       19, 16, 25, 24, 13, 21])"
            ]
          },
          "execution_count": 488,
          "metadata": {},
          "output_type": "execute_result"
        }
      ],
      "source": [
        "y_pred_rf"
      ]
    },
    {
      "cell_type": "code",
      "execution_count": null,
      "metadata": {
        "colab": {
          "base_uri": "https://localhost:8080/",
          "height": 222
        },
        "id": "7zdCqANmnI5c",
        "outputId": "6ae6f06c-4be3-43d4-e4ee-b7c74971d9de",
        "trusted": true
      },
      "outputs": [
        {
          "name": "stdout",
          "output_type": "stream",
          "text": [
            "Gradient Boosting Accuracy -Train: 0.9966887417218543\n",
            "Gradient Boosting Accuracy- Test: 0.6740088105726872\n",
            "\n",
            "Confusion Matrix:\n",
            " [[25  0  0  0  0  0  1  3  0  1  1  1]\n",
            " [ 0 12  1  0  1  0  1  3  1  1  0  1]\n",
            " [ 0  1 10  0  0  0  2  0  0  0  0  0]\n",
            " [ 1  0  0  0  1  0  0  0  0  0  0  0]\n",
            " [ 0  1  0  0 16  0  1  3  0  2  1  1]\n",
            " [ 1  0  0  0  0  3  1  0  0  0  0  0]\n",
            " [ 1  0  0  0  1  0 16  1  1  0  0  1]\n",
            " [ 1  0  0  0  0  0  0 20  1  0  1  0]\n",
            " [ 2  0  0  0  0  1  3  0 14  0  3  1]\n",
            " [ 0  2  0  0  0  0  0  0  0  1  0  0]\n",
            " [ 1  3  0  0  1  0  4  0  0  2 23  2]\n",
            " [ 1  2  0  0  0  0  2  2  2  0  0 13]]\n",
            "\n",
            "Classification Report:\n",
            "               precision    recall  f1-score   support\n",
            "\n",
            "          12       0.76      0.78      0.77        32\n",
            "          13       0.57      0.57      0.57        21\n",
            "          14       0.91      0.77      0.83        13\n",
            "          15       0.00      0.00      0.00         2\n",
            "          16       0.80      0.64      0.71        25\n",
            "          17       0.75      0.60      0.67         5\n",
            "          19       0.52      0.76      0.62        21\n",
            "          21       0.62      0.87      0.73        23\n",
            "          22       0.74      0.58      0.65        24\n",
            "          23       0.14      0.33      0.20         3\n",
            "          24       0.79      0.64      0.71        36\n",
            "          25       0.65      0.59      0.62        22\n",
            "\n",
            "    accuracy                           0.67       227\n",
            "   macro avg       0.60      0.59      0.59       227\n",
            "weighted avg       0.70      0.67      0.68       227\n",
            "\n"
          ]
        }
      ],
      "source": [
        "from sklearn.ensemble import GradientBoostingClassifier\n",
        "\n",
        "gb_classifier = GradientBoostingClassifier(random_state=42,learning_rate=0.4,max_depth=2)\n",
        "gb_classifier.fit(X_train, y_train)\n",
        "\n",
        "y_train_pred = gb_classifier.predict(X_train)\n",
        "print(\"Gradient Boosting Accuracy -Train:\", accuracy_score(y_train, y_train_pred))\n",
        "\n",
        "y_pred_gb = gb_classifier.predict(X_test)\n",
        "print(\"Gradient Boosting Accuracy- Test:\", accuracy_score(y_test, y_pred_gb))\n",
        "print(\"\\nConfusion Matrix:\\n\", confusion_matrix(y_test, y_pred_gb))\n",
        "print(\"\\nClassification Report:\\n\", classification_report(y_test, y_pred_gb))\n",
        "\n"
      ]
    },
    {
      "cell_type": "code",
      "execution_count": 490,
      "metadata": {
        "colab": {
          "base_uri": "https://localhost:8080/",
          "height": 148
        },
        "id": "Dvu8TPt3nI5c",
        "outputId": "7aae4a51-ef92-42ac-da45-081fdedaf3f3",
        "trusted": true
      },
      "outputs": [
        {
          "data": {
            "text/plain": [
              "array([24, 21, 19, 22, 12, 21, 14, 21, 13, 24, 21, 13, 21, 16, 13, 17, 25,\n",
              "       12, 14, 22, 21, 19, 14, 12, 21, 21, 24, 21, 13, 24, 12, 19, 22, 16,\n",
              "       22, 12, 24, 25, 21, 23, 21, 12, 12, 19, 16, 16, 24, 21, 25, 12, 25,\n",
              "       25, 12, 12, 22, 22, 14, 17, 21, 14, 13, 25, 19, 22, 22, 16, 19, 13,\n",
              "       25, 24, 21, 25, 19, 19, 16, 24, 12, 22, 13, 19, 21, 25, 24, 19, 16,\n",
              "       14, 19, 21, 12, 24, 16, 22, 25, 13, 24, 21, 24, 12, 16, 24, 25, 22,\n",
              "       23, 12, 12, 24, 24, 19, 24, 23, 17, 19, 12, 22, 22, 25, 19, 24, 25,\n",
              "       13, 24, 16, 12, 13, 21, 19, 12, 16, 22, 19, 21, 23, 24, 12, 22, 19,\n",
              "       24, 21, 24, 13, 16, 13, 19, 16, 13, 14, 22, 24, 16, 12, 13, 21, 16,\n",
              "       23, 24, 19, 21, 12, 23, 17, 13, 19, 25, 12, 12, 24, 14, 25, 24, 14,\n",
              "       12, 19, 21, 19, 19, 12, 16, 21, 21, 12, 22, 21, 13, 25, 21, 16, 21,\n",
              "       21, 19, 25, 25, 19, 19, 19, 12, 13, 13, 13, 21, 14, 19, 12, 16, 12,\n",
              "       21, 12, 19, 24, 19, 12, 23, 12, 25, 16, 12, 16, 22, 24, 13, 24, 14,\n",
              "       19, 22, 25, 24, 13, 21])"
            ]
          },
          "execution_count": 490,
          "metadata": {},
          "output_type": "execute_result"
        }
      ],
      "source": [
        "y_pred_gb"
      ]
    },
    {
      "cell_type": "code",
      "execution_count": 379,
      "metadata": {
        "colab": {
          "base_uri": "https://localhost:8080/",
          "height": 393
        },
        "id": "H28AzJrInI5c",
        "outputId": "58517a1b-9dbc-4812-e20c-5772ddc11d8d",
        "trusted": true
      },
      "outputs": [
        {
          "name": "stdout",
          "output_type": "stream",
          "text": [
            "Fitting 5 folds for each of 50 candidates, totalling 250 fits\n",
            "Best Hyperparameters: {'learning_rate': 0.1, 'max_depth': 9, 'max_features': 'sqrt', 'min_samples_leaf': 1, 'min_samples_split': 2, 'n_estimators': 225, 'subsample': 1.0}\n"
          ]
        }
      ],
      "source": [
        "#Hyperparameter tuning\n",
        "from sklearn.model_selection import RandomizedSearchCV\n",
        "from scipy.stats import randint\n",
        "\n",
        "# parameter grid\n",
        "param_dist = {\n",
        "    'n_estimators': randint(100, 500),\n",
        "    'learning_rate': [0.01, 0.1, 0.2],\n",
        "    'max_depth': randint(3, 10),\n",
        "    'min_samples_split': randint(2, 20),\n",
        "    'min_samples_leaf': randint(1, 20),\n",
        "    'subsample': [0.8, 1.0],\n",
        "    'max_features': ['sqrt', 'log2']\n",
        "}\n",
        "\n",
        "gbc = GradientBoostingClassifier()\n",
        "\n",
        "random_search = RandomizedSearchCV(estimator=gbc, param_distributions=param_dist,\n",
        "                                   n_iter=50, cv=5, scoring='accuracy',\n",
        "                                   n_jobs=-1, verbose=2, random_state=42)\n",
        "\n",
        "random_search.fit(X_train, y_train)\n",
        "\n",
        "print(\"Best Hyperparameters:\", random_search.best_params_)\n",
        "\n"
      ]
    },
    {
      "cell_type": "code",
      "execution_count": 506,
      "metadata": {
        "id": "UxJe-10NnI5d",
        "trusted": true
      },
      "outputs": [
        {
          "data": {
            "text/plain": [
              "['best_gbc_model.pkl']"
            ]
          },
          "execution_count": 506,
          "metadata": {},
          "output_type": "execute_result"
        }
      ],
      "source": [
        "#saving the best model\n",
        "import joblib\n",
        "joblib.dump(random_search, 'best_gbc_model.pkl')"
      ]
    },
    {
      "cell_type": "code",
      "execution_count": 507,
      "metadata": {
        "id": "Jn7sfW6hnI5d",
        "trusted": true
      },
      "outputs": [
        {
          "name": "stdout",
          "output_type": "stream",
          "text": [
            "Gradient Boosting Accuracy -Train: 0.9966887417218543\n",
            "Gradient Boosting Accuracy: 0.00881057268722467\n",
            "\n",
            "Confusion Matrix:\n",
            " [[ 0  0  0  0  0  0  0  0  0  0  0  0  0  0  0  0  0  0  0  0  0]\n",
            " [ 0  0  0  0  0  0  0  0  0  0  0  0  0  0  0  0  0  0  0  0  0]\n",
            " [ 0  0  0  0  0  0  0  0  0  0  0  0  0  0  0  0  0  0  0  0  0]\n",
            " [ 0  0  0  0  0  0  0  0  0  0  0  0  0  0  0  0  0  0  0  0  0]\n",
            " [ 0  0  0  0  0  0  0  0  0  0  0  0  0  0  0  0  0  0  0  0  0]\n",
            " [ 0  0  0  0  0  0  0  0  0  0  0  0  0  0  0  0  0  0  0  0  0]\n",
            " [ 0  0  0  0  0  0  0  0  0  0  0  0  0  0  0  0  0  0  0  0  0]\n",
            " [ 0  0  0  0  0  0  0  0  0  0  0  0  0  0  0  0  0  0  0  0  0]\n",
            " [ 0  0  0  0  0  0  0  0  0  0  0  0  0  0  0  0  0  0  0  0  0]\n",
            " [23  0  0  0  0  3  2  1  1  1  1  0  0  0  0  0  0  0  0  0  0]\n",
            " [ 0 18  0  0  0  0  1  0  1  0  1  0  0  0  0  0  0  0  0  0  0]\n",
            " [ 0  0  9  0  0  2  1  0  1  0  0  0  0  0  0  0  0  0  0  0  0]\n",
            " [ 1  0  0  1  0  0  0  0  0  0  0  0  0  0  0  0  0  0  0  0  0]\n",
            " [ 0  1  0 19  0  1  2  0  0  0  2  0  0  0  0  0  0  0  0  0  0]\n",
            " [ 1  0  0  0  3  1  0  0  0  0  0  0  0  0  0  0  0  0  0  0  0]\n",
            " [ 1  0  0  0  0 19  0  0  0  0  1  0  0  0  0  0  0  0  0  0  0]\n",
            " [ 0  0  0  0  0  1 19  1  0  1  1  0  0  0  0  0  0  0  0  0  0]\n",
            " [ 3  0  0  0  0  1  0 16  0  4  0  0  0  0  0  0  0  0  0  0  0]\n",
            " [ 0  2  0  0  0  0  0  0  1  0  0  0  0  0  0  0  0  0  0  0  0]\n",
            " [ 1  3  0  1  0  5  0  1  2 23  0  0  0  0  0  0  0  0  0  0  0]\n",
            " [ 1  1  0  0  0  2  1  1  0  0 16  0  0  0  0  0  0  0  0  0  0]]\n",
            "\n",
            "Classification Report:\n",
            "               precision    recall  f1-score   support\n",
            "\n",
            "           0       0.00      0.00      0.00         0\n",
            "           1       0.00      0.00      0.00         0\n",
            "           2       0.00      0.00      0.00         0\n",
            "           4       0.00      0.00      0.00         0\n",
            "           5       0.00      0.00      0.00         0\n",
            "           7       0.00      0.00      0.00         0\n",
            "           9       0.00      0.00      0.00         0\n",
            "          10       0.00      0.00      0.00         0\n",
            "          11       0.00      0.00      0.00         0\n",
            "          12       0.03      0.03      0.03        32\n",
            "          13       0.05      0.05      0.05        21\n",
            "          14       0.00      0.00      0.00        13\n",
            "          15       0.00      0.00      0.00         2\n",
            "          16       0.00      0.00      0.00        25\n",
            "          17       0.00      0.00      0.00         5\n",
            "          19       0.00      0.00      0.00        21\n",
            "          21       0.00      0.00      0.00        23\n",
            "          22       0.00      0.00      0.00        24\n",
            "          23       0.00      0.00      0.00         3\n",
            "          24       0.00      0.00      0.00        36\n",
            "          25       0.00      0.00      0.00        22\n",
            "\n",
            "    accuracy                           0.01       227\n",
            "   macro avg       0.00      0.00      0.00       227\n",
            "weighted avg       0.01      0.01      0.01       227\n",
            "\n"
          ]
        }
      ],
      "source": [
        "# Training accuracy\n",
        "y_train_pred = gb_classifier.predict(X_train)\n",
        "print(\"Gradient Boosting Accuracy -Train:\", accuracy_score(y_train, y_train_pred))\n",
        "\n",
        "#testing\n",
        "y_pred_gb = random_search.predict(X_test)\n",
        "print(\"Gradient Boosting Accuracy:\", accuracy_score(y_test, y_pred_gb))\n",
        "print(\"\\nConfusion Matrix:\\n\", confusion_matrix(y_test, y_pred_gb))\n",
        "print(\"\\nClassification Report:\\n\", classification_report(y_test, y_pred_gb))\n"
      ]
    },
    {
      "cell_type": "markdown",
      "metadata": {
        "id": "0k488a2LnI5d"
      },
      "source": [
        "# IG"
      ]
    },
    {
      "cell_type": "code",
      "execution_count": null,
      "metadata": {
        "id": "oA33h56KnI5d",
        "trusted": true
      },
      "outputs": [
        {
          "name": "stdout",
          "output_type": "stream",
          "text": [
            "Information Gain for each feature:\n",
            "--------------------------------------------------\n",
            "date                 : 2.8808\n",
            "target_runs          : 1.0597\n",
            "toss_winner          : 0.8612\n",
            "team1                : 0.8484\n",
            "team1_rank           : 0.8484\n",
            "team2                : 0.8138\n",
            "team2_rank           : 0.8138\n",
            "result_margin        : 0.5569\n",
            "season               : 0.3203\n",
            "target_overs         : 0.0919\n",
            "result               : 0.0601\n",
            "toss_decision        : 0.0179\n",
            "city                 : 0.0000\n",
            "match_type           : 0.0000\n",
            "player_of_match      : 0.0000\n",
            "venue                : 0.0000\n",
            "super_over           : 0.0000\n"
          ]
        },
        {
          "data": {
            "image/png": "[encoded data removed]",
            "text/plain": [
              "<Figure size 1200x600 with 1 Axes>"
            ]
          },
          "metadata": {},
          "output_type": "display_data"
        }
      ],
      "source": [
        "import numpy as np\n",
        "import pandas as pd\n",
        "from sklearn.tree import DecisionTreeClassifier\n",
        "from sklearn.metrics import accuracy_score\n",
        "from scipy.stats import entropy\n",
        "\n",
        "# Define function to calculate entropy\n",
        "def calculate_entropy(y):\n",
        "    class_counts = np.bincount(y)\n",
        "    probabilities = class_counts / len(y)\n",
        "    return entropy(probabilities, base=2)\n",
        "\n",
        "# Define function to calculate information gain\n",
        "def calculate_information_gain(X, y, feature):\n",
        "    parent_entropy = calculate_entropy(y)\n",
        "    unique_values = X[feature].unique()\n",
        "    weighted_entropy = 0\n",
        "\n",
        "    for value in unique_values:\n",
        "        subset_y = y[X[feature] == value]\n",
        "        subset_entropy = calculate_entropy(subset_y)\n",
        "        weighted_entropy += (len(subset_y) / len(y)) * subset_entropy\n",
        "\n",
        "    # Calculate information gain\n",
        "    information_gain = parent_entropy - weighted_entropy\n",
        "    return information_gain\n",
        "\n",
        "# Example usage:\n",
        "# Split data into X and y\n",
        "X = matches.drop('winner', axis=1)\n",
        "y = matches['winner'].astype('category').cat.codes  # Encode target using category codes\n",
        "\n",
        "# Calculate IG for each feature\n",
        "info_gain_dict = {}\n",
        "for feature in X.columns:\n",
        "    info_gain_dict[feature] = calculate_information_gain(X, y, feature)\n",
        "\n",
        "# Sort features by Information Gain\n",
        "sorted_info_gain = sorted(info_gain_dict.items(), key=lambda x: x[1], reverse=True)\n",
        "\n",
        "\n",
        "print(\"Information Gain for each feature:\")\n",
        "print(\"-\" * 50)\n",
        "for feature, ig in sorted_info_gain:\n",
        "    print(f\"{feature:20} : {ig:.4f}\")\n",
        "plt.figure(figsize=(12, 6))\n",
        "top_features = sorted_info_gain[:10]\n",
        "features = [f[0] for f in top_features]\n",
        "ig_values = [f[1] for f in top_features]\n",
        "\n",
        "plt.barh(features, ig_values)\n",
        "plt.xlabel('Information Gain')\n",
        "plt.title('Top 10 Features by Information Gain')\n",
        "plt.gca().invert_yaxis()  # Display highest IG at the top\n",
        "plt.show()"
      ]
    },
    {
      "cell_type": "markdown",
      "metadata": {
        "id": "JWSranignI5e"
      },
      "source": [
        "# XGBoost"
      ]
    },
    {
      "cell_type": "code",
      "execution_count": 494,
      "metadata": {
        "id": "IMazKmsPnI5e",
        "trusted": true
      },
      "outputs": [
        {
          "name": "stdout",
          "output_type": "stream",
          "text": [
            "Training Accuracy: 0.8498896247240618\n",
            "Test Accuracy: 0.6828193832599119\n"
          ]
        }
      ],
      "source": [
        "import xgboost as xgb\n",
        "from sklearn.metrics import accuracy_score\n",
        "import numpy as np\n",
        "\n",
        "# First, ensure y_train is properly encoded with consecutive integers starting from 0\n",
        "y_train = np.array(y_train)\n",
        "unique_classes = np.unique(y_train)\n",
        "class_mapping = {old_label: new_label for new_label, old_label in enumerate(unique_classes)}\n",
        "y_train_encoded = np.array([class_mapping[label] for label in y_train])\n",
        "\n",
        "xgb_classifier = xgb.XGBClassifier(\n",
        "    n_estimators=100,    \n",
        "    learning_rate=0.05,        \n",
        "    max_depth=3,                \n",
        "    subsample=0.8,              \n",
        "    colsample_bytree=0.8,       \n",
        "    reg_alpha=1,                \n",
        "    reg_lambda=1,               \n",
        "    objective='multi:softmax',\n",
        "    num_class=len(unique_classes),  \n",
        "    eval_metric='mlogloss',\n",
        "    use_label_encoder=False\n",
        ")\n",
        "\n",
        "xgb_classifier.fit(X_train, y_train_encoded)\n",
        "\n",
        "# Predict on training data\n",
        "y_train_pred = xgb_classifier.predict(X_train)\n",
        "\n",
        "# Calculate training accuracy\n",
        "train_accuracy = accuracy_score(y_train_encoded, y_train_pred)\n",
        "print(\"Training Accuracy:\", train_accuracy)\n",
        "y_test_encoded = np.array([class_mapping[label] for label in y_test])\n",
        "y_pred_xgb = xgb_classifier.predict(X_test)\n",
        "print(\"Test Accuracy:\", accuracy_score(y_test_encoded, y_pred_xgb))\n",
        "xgb_classifier.class_mapping = class_mapping"
      ]
    },
    {
      "cell_type": "code",
      "execution_count": 495,
      "metadata": {
        "id": "GXK0nbdynI5e",
        "trusted": true
      },
      "outputs": [
        {
          "data": {
            "text/plain": [
              "array([ 0,  1,  2,  4,  5,  7,  9, 10, 11, 12, 13], dtype=int32)"
            ]
          },
          "execution_count": 495,
          "metadata": {},
          "output_type": "execute_result"
        }
      ],
      "source": [
        "np.unique(y_pred_xgb)"
      ]
    },
    {
      "cell_type": "code",
      "execution_count": 496,
      "metadata": {
        "id": "VLkJEGMonI5e",
        "trusted": true
      },
      "outputs": [
        {
          "data": {
            "text/plain": [
              "array(['chennai super kings', '5', '3', '1', '0', '0', '9', '5', '0',\n",
              "       'chennai super kings', '5', '1', 'chennai super kings', '12',\n",
              "       'chennai super kings', '13', 'delhi capitals', '0', '10', '7', '5',\n",
              "       '3', '10', '0', '1', '3', 'chennai super kings', '5', '1', '12',\n",
              "       '0', '3', '3', '12', '7', '0', 'chennai super kings',\n",
              "       'delhi capitals', '5', '9', '5', '0', '5', '1', '12', '12', '7',\n",
              "       '5', 'delhi capitals', '0', 'delhi capitals', 'delhi capitals',\n",
              "       '0', '0', '3', '5', '10', '7', '1', '10', '1', '3', '3', '7', '7',\n",
              "       '12', '3', '1', 'delhi capitals', 'chennai super kings', '1',\n",
              "       'chennai super kings', '3', '3', '12', 'chennai super kings', '0',\n",
              "       '7', '1', '3', 'delhi capitals', 'delhi capitals',\n",
              "       'chennai super kings', '3', '12', '10', '7', '5', '0',\n",
              "       'chennai super kings', '12', '7', 'delhi capitals', '1',\n",
              "       'chennai super kings', 'delhi capitals', 'chennai super kings',\n",
              "       '0', '12', 'chennai super kings', 'delhi capitals', '7', '9', '7',\n",
              "       '0', 'chennai super kings', 'chennai super kings', '3',\n",
              "       'chennai super kings', '0', '13', '3', '0', 'delhi capitals', '7',\n",
              "       'delhi capitals', '3', 'chennai super kings',\n",
              "       'chennai super kings', '1', 'chennai super kings',\n",
              "       'delhi capitals', '0', '1', '5', '3', '0', '12', '7', '3', '5',\n",
              "       '9', 'chennai super kings', '0', 'chennai super kings', '3',\n",
              "       'chennai super kings', '5', 'chennai super kings',\n",
              "       'delhi capitals', '12', 'delhi capitals', 'chennai super kings',\n",
              "       '1', '1', '10', '7', '12', '12', '0', '1', '5', '12', '12',\n",
              "       'chennai super kings', 'delhi capitals', '5', '0', '9', '13', '1',\n",
              "       '3', 'delhi capitals', '0', '0', 'chennai super kings', '5',\n",
              "       'delhi capitals', '12', '10', '0', '3', '5', '3', '3', '0', '12',\n",
              "       '5', '5', '0', '7', '0', '1', 'delhi capitals', '5', '3', '5', '5',\n",
              "       '3', '5', 'delhi capitals', '3', '3', '3', '0', '1', '1', '1',\n",
              "       'delhi capitals', '10', '3', '0', '12', '0', '5', '0', '3', '1',\n",
              "       '3', '0', '12', '0', 'delhi capitals', 'delhi capitals', '0', '12',\n",
              "       '7', 'chennai super kings', 'chennai super kings',\n",
              "       'chennai super kings', '10', '3', '7', 'delhi capitals', '5', '1',\n",
              "       '5'], dtype=object)"
            ]
          },
          "execution_count": 496,
          "metadata": {},
          "output_type": "execute_result"
        }
      ],
      "source": [
        "y_pred_decoded = team_encoder.inverse_transform(y_pred_xgb)\n",
        "y_pred_decoded"
      ]
    },
    {
      "cell_type": "code",
      "execution_count": 508,
      "metadata": {
        "id": "Sg9qJJ8mnI5f",
        "trusted": true
      },
      "outputs": [
        {
          "name": "stdout",
          "output_type": "stream",
          "text": [
            "Fitting 3 folds for each of 20 candidates, totalling 60 fits\n",
            "Training Accuracy- XGB random: 1.0\n",
            "Best parameters: {'objective': 'multi:softmax', 'base_score': None, 'booster': None, 'callbacks': None, 'colsample_bylevel': None, 'colsample_bynode': None, 'colsample_bytree': 1.0, 'device': None, 'early_stopping_rounds': None, 'enable_categorical': False, 'eval_metric': 'mlogloss', 'feature_types': None, 'feature_weights': None, 'gamma': 0.1, 'grow_policy': None, 'importance_type': None, 'interaction_constraints': None, 'learning_rate': 0.05, 'max_bin': None, 'max_cat_threshold': None, 'max_cat_to_onehot': None, 'max_delta_step': None, 'max_depth': 6, 'max_leaves': None, 'min_child_weight': None, 'missing': nan, 'monotone_constraints': None, 'multi_strategy': None, 'n_estimators': 150, 'n_jobs': None, 'num_parallel_tree': None, 'random_state': None, 'reg_alpha': None, 'reg_lambda': None, 'sampling_method': None, 'scale_pos_weight': None, 'subsample': 1.0, 'tree_method': None, 'validate_parameters': None, 'verbosity': None, 'num_class': 14, 'use_label_encoder': False}\n",
            "\n",
            "Tuned Model Accuracy: 0.7312775330396476\n"
          ]
        },
        {
          "data": {
            "image/png": "[encoded data removed]",
            "text/plain": [
              "<Figure size 640x480 with 1 Axes>"
            ]
          },
          "metadata": {},
          "output_type": "display_data"
        }
      ],
      "source": [
        "import xgboost as xgb\n",
        "from sklearn.metrics import accuracy_score\n",
        "from sklearn.model_selection import RandomizedSearchCV\n",
        "import numpy as np\n",
        "\n",
        "y_train = np.array(y_train)\n",
        "unique_classes = np.unique(y_train)\n",
        "class_mapping = {old_label: new_label for new_label, old_label in enumerate(unique_classes)}\n",
        "y_train_encoded = np.array([class_mapping[label] for label in y_train])\n",
        "\n",
        "# Define the parameter grid\n",
        "param_grid = {\n",
        "    'n_estimators': [50, 100, 150, 200],\n",
        "    'max_depth': [3, 6],\n",
        "    'learning_rate': [0.01, 0.05, 0.1, 0.2],\n",
        "    'subsample': [0.7, 0.8, 1.0],\n",
        "    'colsample_bytree': [0.7, 0.8, 1.0],\n",
        "    'gamma': [0, 0.1, 0.2]\n",
        "}\n",
        "\n",
        "xgb_tuned = xgb.XGBClassifier(\n",
        "    objective='multi:softmax',\n",
        "    num_class=len(unique_classes),  \n",
        "    eval_metric='mlogloss',\n",
        "    use_label_encoder=False\n",
        ")\n",
        "\n",
        "random_search = RandomizedSearchCV(\n",
        "    xgb_tuned,\n",
        "    param_distributions=param_grid,\n",
        "    n_iter=20,\n",
        "    scoring='accuracy',\n",
        "    cv=3,\n",
        "    verbose=1,\n",
        "    random_state=42,\n",
        "    n_jobs=-1\n",
        ")\n",
        "\n",
        "random_search.fit(X_train, y_train_encoded)\n",
        "\n",
        "# Get predictions and calculate accuracy\n",
        "y_train_pred = random_search.predict(X_train)\n",
        "train_accuracy = accuracy_score(y_train_encoded, y_train_pred)\n",
        "print(\"Training Accuracy- XGB random:\", train_accuracy)\n",
        "\n",
        "# Get the best model\n",
        "best_xgb = random_search.best_estimator_\n",
        "print(\"Best parameters:\", best_xgb.get_params())\n",
        "\n",
        "y_test_encoded = np.array([class_mapping[label] for label in y_test])\n",
        "y_pred_best = best_xgb.predict(X_test)\n",
        "print(\"\\nTuned Model Accuracy:\", accuracy_score(y_test_encoded, y_pred_best))\n",
        "best_xgb.class_mapping = class_mapping\n",
        "xgb.plot_importance(best_xgb)\n",
        "plt.show()"
      ]
    },
    {
      "cell_type": "code",
      "execution_count": 498,
      "metadata": {
        "id": "0eGx7SkQnI5f",
        "trusted": true
      },
      "outputs": [],
      "source": [
        "# Evaluate on test data\n",
        "y_pred_league = best_xgb.predict(X_test)\n"
      ]
    },
    {
      "cell_type": "code",
      "execution_count": 501,
      "metadata": {
        "id": "EqwAMSwVnI5g",
        "trusted": true
      },
      "outputs": [
        {
          "data": {
            "text/plain": [
              "array(['chennai super kings', '5', '1', '1', '0', '0', '9', '5', '1',\n",
              "       'chennai super kings', '5', '1', 'chennai super kings', '12',\n",
              "       'chennai super kings', '13', 'delhi capitals', '0', '10', '7', '5',\n",
              "       '3', '10', '0', '5', '5', 'chennai super kings', '5', '1',\n",
              "       'chennai super kings', '0', '3', '3', '12', '7', '0',\n",
              "       'chennai super kings', 'delhi capitals', '5', '9', '3', '3', '5',\n",
              "       '3', '12', '12', 'chennai super kings', '5', 'delhi capitals', '0',\n",
              "       'delhi capitals', 'delhi capitals', '0', '0', '7', '7', '10', '7',\n",
              "       '1', '10', '10', '3', '7', '7', '7', '12', '3', '1',\n",
              "       'delhi capitals', 'chennai super kings', '1', 'delhi capitals',\n",
              "       '3', '3', '3', '1', '0', '7', '1', '3', '5', 'delhi capitals',\n",
              "       'chennai super kings', '3', '12', '10', '7', '12', '0', '3', '12',\n",
              "       '7', 'chennai super kings', '1', '9', 'delhi capitals',\n",
              "       'chennai super kings', '0', '12', 'chennai super kings',\n",
              "       'delhi capitals', '7', '9', '7', '0', 'chennai super kings',\n",
              "       'chennai super kings', '3', 'chennai super kings', '9', '13', '3',\n",
              "       '0', 'delhi capitals', '7', 'delhi capitals', '3',\n",
              "       'chennai super kings', 'chennai super kings',\n",
              "       'chennai super kings', '7', 'delhi capitals', '0', '1', '5', '3',\n",
              "       '3', '12', '7', '3', '5', 'chennai super kings',\n",
              "       'chennai super kings', '0', 'chennai super kings', '3',\n",
              "       'chennai super kings', '5', 'chennai super kings', '1', '12',\n",
              "       'delhi capitals', '3', '12', '1', '1', '0', 'chennai super kings',\n",
              "       '12', '0', '1', '3', '12', '12', 'chennai super kings', '3', '5',\n",
              "       '0', '9', '13', '1', 'delhi capitals', 'delhi capitals', '0', '0',\n",
              "       'chennai super kings', '5', 'delhi capitals', '12', '10', '0', '3',\n",
              "       '5', '3', '3', '0', '12', '5', '5', '0', '7', '0', '1', '7', '5',\n",
              "       '12', '5', '5', '3', 'delhi capitals', 'delhi capitals', '3', '3',\n",
              "       '3', '0', '1', '1', '1', 'delhi capitals', '10', '3', '0', '12',\n",
              "       '0', '5', '0', '3', '1', '3', '5', '12', '0', '1',\n",
              "       'delhi capitals', '0', '12', '7', 'chennai super kings', '1',\n",
              "       'chennai super kings', '10', '3', '7', 'delhi capitals', '5', '1',\n",
              "       '5'], dtype=object)"
            ]
          },
          "execution_count": 501,
          "metadata": {},
          "output_type": "execute_result"
        }
      ],
      "source": [
        "y_pred_decoded = team_encoder.inverse_transform(y_pred_league)\n",
        "y_pred_decoded"
      ]
    },
    {
      "cell_type": "code",
      "execution_count": 502,
      "metadata": {
        "id": "Yv6Kz80TnI5g",
        "trusted": true
      },
      "outputs": [
        {
          "data": {
            "text/plain": [
              "227"
            ]
          },
          "execution_count": 502,
          "metadata": {},
          "output_type": "execute_result"
        }
      ],
      "source": [
        "len(y_pred_decoded)"
      ]
    },
    {
      "cell_type": "code",
      "execution_count": 504,
      "metadata": {
        "id": "NzmJoTt6nI5h",
        "trusted": true
      },
      "outputs": [
        {
          "data": {
            "text/plain": [
              "3                      35\n",
              "0                      31\n",
              "chennai super kings    29\n",
              "5                      26\n",
              "1                      25\n",
              "delhi capitals         22\n",
              "12                     21\n",
              "7                      20\n",
              "10                      9\n",
              "9                       6\n",
              "13                      3\n",
              "Name: count, dtype: int64"
            ]
          },
          "execution_count": 504,
          "metadata": {},
          "output_type": "execute_result"
        }
      ],
      "source": [
        "pd.Series(y_pred_decoded).value_counts()"
      ]
    }
  ],
  "metadata": {
    "colab": {
      "provenance": []
    },
    "kaggle": {
      "accelerator": "none",
      "dataSources": [
        {
          "datasetId": 990900,
          "sourceId": 8637500,
          "sourceType": "datasetVersion"
        },
        {
          "datasetId": 7025266,
          "sourceId": 11301079,
          "sourceType": "datasetVersion"
        }
      ],
      "dockerImageVersionId": 30918,
      "isGpuEnabled": false,
      "isInternetEnabled": true,
      "language": "python",
      "sourceType": "notebook"
    },
    "kernelspec": {
      "display_name": "Python 3",
      "language": "python",
      "name": "python3"
    },
    "language_info": {
      "codemirror_mode": {
        "name": "ipython",
        "version": 3
      },
      "file_extension": ".py",
      "mimetype": "text/x-python",
      "name": "python",
      "nbconvert_exporter": "python",
      "pygments_lexer": "ipython3",
      "version": "3.11.3"
    }
  },
  "nbformat": 4,
  "nbformat_minor": 0
}
